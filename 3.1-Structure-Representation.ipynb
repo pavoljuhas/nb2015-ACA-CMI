{
 "metadata": {
  "name": "",
  "signature": "sha256:88f8f738cb60e8ec8cb88677f55ca0cdb3075375416d8e6f1fcf1887372fa492"
 },
 "nbformat": 3,
 "nbformat_minor": 0,
 "worksheets": [
  {
   "cells": [
    {
     "cell_type": "heading",
     "level": 1,
     "metadata": {},
     "source": [
      "Structure Representations"
     ]
    },
    {
     "cell_type": "markdown",
     "metadata": {},
     "source": [
      "The DiffPy-CMI framework provides several options for representation, manipulation and filesystem storage of structure data.  Here we demonstrate the basic operations on structure models using the `diffpy.Structure` and `pyobjcryst` packages included in DiffPy-CMI."
     ]
    },
    {
     "cell_type": "heading",
     "level": 2,
     "metadata": {},
     "source": [
      "diffpy.Structure"
     ]
    },
    {
     "cell_type": "markdown",
     "metadata": {},
     "source": [
      "In `diffpy.Structure` the atom arrangements are represented as a combination of data in the `Structure`, `Atom` and `Lattice` class.  The `Structure` class is an enhanced Python list of `Atom` objects, where each Atom stores fractional coordinates, element or ion symbol, a matrix of displacement parameters and other attributes.  The `Lattice` class defines fractional coordinates  with respect to the absolute Cartesian coordinate system and provides functions for conversion between fractional and Cartesian coordinates and other metrics operations."
     ]
    },
    {
     "cell_type": "code",
     "collapsed": false,
     "input": [
      "from __future__ import print_function\n",
      "from diffpy.Structure import Structure, Atom, Lattice\n",
      "\n",
      "acs = Atom('Cs', [0, 0, 0])\n",
      "acl = Atom('Cl', [0.5, 0.5, 0.5])\n",
      "cscl = Structure(atoms=[acs, acl],\n",
      "                 lattice=Lattice(4.123, 4.123, 4.123, 90, 90, 90))\n",
      "\n",
      "print(cscl)"
     ],
     "language": "python",
     "metadata": {},
     "outputs": [
      {
       "output_type": "stream",
       "stream": "stdout",
       "text": [
        "lattice=Lattice(a=4.123, b=4.123, c=4.123, alpha=90, beta=90, gamma=90)\n",
        "Cs   0.000000 0.000000 0.000000 1.0000\n",
        "Cl   0.500000 0.500000 0.500000 1.0000\n"
       ]
      }
     ],
     "prompt_number": 1
    },
    {
     "cell_type": "markdown",
     "metadata": {},
     "source": [
      "The atoms in the structure can be referred by integer indices starting from zero.  A subset of atoms can be selected using integer ranges, but also with a list of integer indices or boolean flags."
     ]
    },
    {
     "cell_type": "code",
     "collapsed": false,
     "input": [
      "print(cscl[0], '\\n---')     # first atom in the structure\n",
      "print(cscl[::-1], '\\n---')  # reversed other of atoms\n",
      "print(cscl[[1,]], '\\n---')  # substructure containing only the 2nd atom\n",
      "print(cscl[cscl.x < 0.2])   # substructure of atoms with x < 0.2"
     ],
     "language": "python",
     "metadata": {},
     "outputs": [
      {
       "output_type": "stream",
       "stream": "stdout",
       "text": [
        "Cs   0.000000 0.000000 0.000000 1.0000 \n",
        "---\n",
        "lattice=Lattice(a=4.123, b=4.123, c=4.123, alpha=90, beta=90, gamma=90)\n",
        "Cl   0.500000 0.500000 0.500000 1.0000\n",
        "Cs   0.000000 0.000000 0.000000 1.0000 \n",
        "---\n",
        "lattice=Lattice(a=4.123, b=4.123, c=4.123, alpha=90, beta=90, gamma=90)\n",
        "Cl   0.500000 0.500000 0.500000 1.0000 \n",
        "---\n",
        "lattice=Lattice(a=4.123, b=4.123, c=4.123, alpha=90, beta=90, gamma=90)\n",
        "Cs   0.000000 0.000000 0.000000 1.0000\n"
       ]
      }
     ],
     "prompt_number": 2
    },
    {
     "cell_type": "markdown",
     "metadata": {},
     "source": [
      "Atom positions in the structure are defined using fractional coordinates, therefore their absolute coordinate and mutual distances respond to a change in lattice parameters."
     ]
    },
    {
     "cell_type": "code",
     "collapsed": false,
     "input": [
      "print(\"Cl Cartesian coordinates:\", cscl[1].xyz_cartn)\n",
      "print(\"Cs-Cl distance:\", cscl.distance(0, 1))\n",
      "cscl.lattice.setLatPar(a=3, b=3, c=3)\n",
      "print(\"Cl Cartesian coordinates:\", cscl[1].xyz_cartn)\n",
      "print(\"Cs-Cl distance:\", cscl.distance(0, 1))"
     ],
     "language": "python",
     "metadata": {},
     "outputs": [
      {
       "output_type": "stream",
       "stream": "stdout",
       "text": [
        "Cl Cartesian coordinates: [ 2.0615  2.0615  2.0615]\n",
        "Cs-Cl distance: 3.5706227398\n",
        "Cl Cartesian coordinates: [ 1.5  1.5  1.5]\n",
        "Cs-Cl distance: 2.59807621135\n"
       ]
      }
     ],
     "prompt_number": 3
    },
    {
     "cell_type": "markdown",
     "metadata": {},
     "source": [
      "Data attributes of the atoms can be changed either individually or using a mapped properties of the containing Structure.  Here we first set the  isotropic displacement for all atoms and then for a subset of chlorines."
     ]
    },
    {
     "cell_type": "code",
     "collapsed": false,
     "input": [
      "cscl.Uisoequiv = 0.003\n",
      "print(cscl.Uisoequiv)\n",
      "cscl[cscl.element == 'Cl'].Uisoequiv = 0.004\n",
      "print(cscl.Uisoequiv) "
     ],
     "language": "python",
     "metadata": {},
     "outputs": [
      {
       "output_type": "stream",
       "stream": "stdout",
       "text": [
        "[ 0.003  0.003]\n",
        "[ 0.003  0.004]\n"
       ]
      }
     ],
     "prompt_number": 4
    },
    {
     "cell_type": "markdown",
     "metadata": {},
     "source": [
      "The changes in equivalent isotropic displacement *Uisoequiv* are also applied to the tensor of displacement parameters *U*.  The *anisotropy* flag specifies if anisotropic displacements are allowed per each atom site."
     ]
    },
    {
     "cell_type": "code",
     "collapsed": false,
     "input": [
      "print(cscl.U, '\\n---')\n",
      "print(cscl.anisotropy)"
     ],
     "language": "python",
     "metadata": {},
     "outputs": [
      {
       "output_type": "stream",
       "stream": "stdout",
       "text": [
        "[[[ 0.003  0.     0.   ]\n",
        "  [ 0.     0.003  0.   ]\n",
        "  [ 0.     0.     0.003]]\n",
        "\n",
        " [[ 0.004  0.     0.   ]\n",
        "  [ 0.     0.004  0.   ]\n",
        "  [ 0.     0.     0.004]]] \n",
        "---\n",
        "[False False]\n"
       ]
      }
     ],
     "prompt_number": 5
    },
    {
     "cell_type": "markdown",
     "metadata": {},
     "source": [
      "Structures can be imported from a variety of formats such as XYZ, PDB or CIF.  The `Structure` class is a simple list of atoms with no awareness of asymmetric unit cell.  Therefore, when loading from a CIF file, the asymmetric unit is expanded to a full unit cell as if in a P1 symmetry."
     ]
    },
    {
     "cell_type": "code",
     "collapsed": false,
     "input": [
      "from diffpy.Structure import loadStructure\n",
      "nacl = loadStructure('nacl_cod1000041.cif')\n",
      "print(nacl)"
     ],
     "language": "python",
     "metadata": {},
     "outputs": [
      {
       "output_type": "stream",
       "stream": "stdout",
       "text": [
        "lattice=Lattice(a=5.62, b=5.62, c=5.62, alpha=90, beta=90, gamma=90)\n",
        "Na1+ 0.000000 0.000000 0.000000 1.0000\n",
        "Na1+ 0.000000 0.500000 0.500000 1.0000\n",
        "Na1+ 0.500000 0.000000 0.500000 1.0000\n",
        "Na1+ 0.500000 0.500000 0.000000 1.0000\n",
        "Cl1- 0.500000 0.500000 0.500000 1.0000\n",
        "Cl1- 0.500000 0.000000 0.000000 1.0000\n",
        "Cl1- 0.000000 0.500000 0.000000 1.0000\n",
        "Cl1- 0.000000 0.000000 0.500000 1.0000\n"
       ]
      }
     ],
     "prompt_number": 6
    },
    {
     "cell_type": "markdown",
     "metadata": {},
     "source": [
      "The `diffpy.Struxcture` package provides symmetry functions that can generate symmetry equivalent positions or symmetry constraints for the coordinates and displacement parameters."
     ]
    },
    {
     "cell_type": "code",
     "collapsed": false,
     "input": [
      "from diffpy.Structure.SpaceGroups import GetSpaceGroup\n",
      "from diffpy.Structure.SymmetryUtilities import ExpandAsymmetricUnit\n",
      "\n",
      "Fm3m = GetSpaceGroup('Fm-3m')\n",
      "eau = ExpandAsymmetricUnit(Fm3m, corepos=[[0, 0, 0],])\n",
      "eau.expandedpos"
     ],
     "language": "python",
     "metadata": {},
     "outputs": [
      {
       "metadata": {},
       "output_type": "pyout",
       "prompt_number": 7,
       "text": [
        "[[array([ 0.,  0.,  0.]),\n",
        "  array([ 0. ,  0.5,  0.5]),\n",
        "  array([ 0.5,  0. ,  0.5]),\n",
        "  array([ 0.5,  0.5,  0. ])]]"
       ]
      }
     ],
     "prompt_number": 7
    },
    {
     "cell_type": "markdown",
     "metadata": {},
     "source": [
      "The `SymmetryConstraints` class can determine symmetry constraints on positions and displacement parameters at the specified sites."
     ]
    },
    {
     "cell_type": "code",
     "collapsed": false,
     "input": [
      "from diffpy.Structure.SymmetryUtilities import SymmetryConstraints\n",
      "\n",
      "symcon = SymmetryConstraints(Fm3m, positions=nacl.xyz)\n",
      "\n",
      "print('asymmetric unit and related positions:', symcon.coremap)\n",
      "print('position parameters:', symcon.pospars)\n",
      "print('position constraints on the 1-st site:', symcon.poseqns[0])\n",
      "print('ADP parameters:', symcon.Upars)\n",
      "print('ADP constraints on the 1-st site:', symcon.Ueqns[0])"
     ],
     "language": "python",
     "metadata": {},
     "outputs": [
      {
       "output_type": "stream",
       "stream": "stdout",
       "text": [
        "asymmetric unit and related positions: {0: [0, 1, 2, 3], 4: [4, 5, 6, 7]}\n",
        "position parameters: []\n",
        "position constraints on the 1-st site: {'y': '+0', 'x': '+0', 'z': '+0'}\n",
        "ADP parameters: [('U110', 0.0), ('U114', 0.0)]\n",
        "ADP constraints on the 1-st site: {'U33': 'U110', 'U22': 'U110', 'U23': '0', 'U11': 'U110', 'U13': '0', 'U12': '0'}\n"
       ]
      }
     ],
     "prompt_number": 8
    },
    {
     "cell_type": "heading",
     "level": 2,
     "metadata": {},
     "source": [
      "pyobjcryst structure representation"
     ]
    },
    {
     "cell_type": "markdown",
     "metadata": {},
     "source": [
      "pyobjcryst is a Python interface to the [ObjCryst++](https://sourceforge.net/projects/objcryst/) crystallographic library developed by Vincent Favre-Nicolin.  pyobjcryst provides advanced features for representing crystal structures including space group symmetries and chemical constraints such as rigid groups and restraints on bond lengths and bond angles.  The pyobjcryst Crystal class represent periodic structures as collection of scatterers at fractional coordinates.  Each scatterer is a single atom for common crystal structures, however it can be a collection of atom position grouped in a Molecule or described by Z-Matrix.\n",
      "\n",
      "Pyobjcryst can load or save structures in the standard CIF format or as native XML."
     ]
    },
    {
     "cell_type": "code",
     "collapsed": false,
     "input": [
      "from pyobjcryst.crystal import CreateCrystalFromCIF\n",
      "\n",
      "nacl = CreateCrystalFromCIF(open('nacl_cod1000041.cif'))\n",
      "print(nacl)"
     ],
     "language": "python",
     "metadata": {},
     "outputs": [
      {
       "output_type": "stream",
       "stream": "stdout",
       "text": [
        "UnitCell : Sodium chloride(F m -3 m)\n",
        "    Cell dimensions :  5.62000   5.62000   5.62000  90.00000  90.00000  90.00000\n",
        "List of scattering components (atoms): 2\n",
        "Na1              at :  0.0000 0.0000 0.0000, Occup=1.0000 * 0.0208, ScattPow:Na1             , Biso=    0.0000\n",
        "Cl1              at :  0.5000 0.5000 0.5000, Occup=1.0000 * 0.0208, ScattPow:Cl1             , Biso=    0.0000\n",
        "\n",
        "Occupancy = occ * dyn, where:\n",
        "        - occ is the 'real' occupancy\n",
        "        - dyn is the dynamical occupancy correction, indicating  either\n",
        "          an atom on a special position, or several identical atoms \n",
        "          overlapping (dyn=0.5 -> atom on a symetry plane / 2fold axis..\n",
        "                               -> OR 2 atoms strictly overlapping)\n",
        "\n",
        " Total number of components (atoms) in one unit cell : 8\n"
       ]
      }
     ],
     "prompt_number": 9
    },
    {
     "cell_type": "markdown",
     "metadata": {},
     "source": [
      "The `GetSpaceGroup()` function of the obtained `Crystal` object gives access to the active space group."
     ]
    },
    {
     "cell_type": "code",
     "collapsed": false,
     "input": [
      "print(nacl.GetSpaceGroup())"
     ],
     "language": "python",
     "metadata": {},
     "outputs": [
      {
       "output_type": "stream",
       "stream": "stdout",
       "text": [
        "SpaceGroup:\n",
        "  Schoenflies symbol = Oh^5\n",
        "  Hermann-Maugin symbol = F m -3 m\n",
        "  Hall symbol = -F 4 2 3\n",
        "  SgNumber = 225\n",
        "  Number of Seitz Matrix = 24\n",
        "  Number of Translation Vectors = 4\n",
        "  List of Seitz Matrices : \n",
        "    x,y,z\n",
        "    -y,x,z\n",
        "    -x,-y,z\n",
        "    y,-x,z\n",
        "    x,-y,-z\n",
        "    y,x,-z\n",
        "    -x,y,-z\n",
        "    -y,-x,-z\n",
        "    z,x,y\n",
        "    -x,z,y\n",
        "    -z,-x,y\n",
        "    x,-z,y\n",
        "    z,-x,-y\n",
        "    x,z,-y\n",
        "    -z,x,-y\n",
        "    -x,-z,-y\n",
        "    y,z,x\n",
        "    y,-z,-x\n",
        "    z,y,-x\n",
        "    -y,z,-x\n",
        "    -z,-y,-x\n",
        "    -y,-z,x\n",
        "    z,-y,x\n",
        "    -z,y,x\n",
        "  There is an inversion center at 0 0 0\n",
        "  List of Translation vectors :\n",
        "     0,0,0\n",
        "     0,0.5,0.5\n",
        "     0.5,0,0.5\n",
        "     0.5,0.5,0\n",
        "Extension (origin choice, rhomboedral/hexagonal):\u0000\n"
       ]
      }
     ],
     "prompt_number": 10
    },
    {
     "cell_type": "markdown",
     "metadata": {},
     "source": [
      "The positions of Na and Cl scatterers are defined by fractional coordinates, therefore the distance between Na and Cl depends on lattice parameters."
     ]
    },
    {
     "cell_type": "code",
     "collapsed": false,
     "input": [
      "from pyobjcryst.crystal import Crystal\n",
      "\n",
      "print(\"ORIGINAL:\")\n",
      "print(nacl.GetMinDistanceTable())\n",
      "# create copy of the nacl object\n",
      "nacl_scaled = Crystal(nacl)\n",
      "# scale up the lattice parameters\n",
      "a_scaled = 2 * nacl.a\n",
      "nacl_scaled.a, nacl_scaled.b, nacl_scaled.c = a_scaled, a_scaled, a_scaled\n",
      "print(\"EXPANDED:\")\n",
      "print(nacl_scaled.GetMinDistanceTable())"
     ],
     "language": "python",
     "metadata": {},
     "outputs": [
      {
       "output_type": "stream",
       "stream": "stdout",
       "text": [
        "ORIGINAL:\n",
        "[[ 3.97394011  2.81      ]\n",
        " [ 2.81        3.97394011]]\n",
        "EXPANDED:\n",
        "[[ 7.94788022  5.62      ]\n",
        " [ 5.62        7.94788022]]\n"
       ]
      }
     ],
     "prompt_number": 11
    }
   ],
   "metadata": {}
  }
 ]
}