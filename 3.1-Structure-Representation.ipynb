{
 "metadata": {
  "name": "",
  "signature": "sha256:2ce333965bd38bad7f2eb7631ceee8fc7d6301a4383a256a29e12b9c8115d98a"
 },
 "nbformat": 3,
 "nbformat_minor": 0,
 "worksheets": [
  {
   "cells": [
    {
     "cell_type": "heading",
     "level": 1,
     "metadata": {},
     "source": [
      "Structure Representations"
     ]
    },
    {
     "cell_type": "markdown",
     "metadata": {},
     "source": [
      "The DiffPy-CMI framework provides several options for representation, manipulation and filesystem storage of structure data.  Here we demonstrate the basic operations on structure models using the `diffpy.Structure` and `pyobjcryst` packages included in DiffPy-CMI."
     ]
    },
    {
     "cell_type": "heading",
     "level": 2,
     "metadata": {},
     "source": [
      "diffpy.Structure"
     ]
    },
    {
     "cell_type": "markdown",
     "metadata": {},
     "source": [
      "In `diffpy.Structure` the atom arrangements are represented as a combination of data in the `Structure`, `Atom` and `Lattice` class.  The `Structure` class is an enhanced Python list of `Atom` objects, where each Atom stores fractional coordinates, element or ion symbol, a matrix of displacement parameters and other attributes.  The `Lattice` class defines fractional coordinates  with respect to the absolute Cartesian coordinate system and provides functions for conversion between fractional and Cartesian coordinates and other metrics operations."
     ]
    },
    {
     "cell_type": "code",
     "collapsed": false,
     "input": [
      "from __future__ import print_function\n",
      "from diffpy.Structure import Structure, Atom, Lattice\n",
      "\n",
      "acs = Atom('Cs', [0, 0, 0])\n",
      "acl = Atom('Cl', [0.5, 0.5, 0.5])\n",
      "cscl = Structure(atoms=[acs, acl],\n",
      "                 lattice=Lattice(4.123, 4.123, 4.123, 90, 90, 90))\n",
      "\n",
      "print(cscl)"
     ],
     "language": "python",
     "metadata": {},
     "outputs": [
      {
       "output_type": "stream",
       "stream": "stdout",
       "text": [
        "lattice=Lattice(a=4.123, b=4.123, c=4.123, alpha=90, beta=90, gamma=90)\n",
        "Cs   0.000000 0.000000 0.000000 1.0000\n",
        "Cl   0.500000 0.500000 0.500000 1.0000\n"
       ]
      }
     ],
     "prompt_number": 1
    },
    {
     "cell_type": "markdown",
     "metadata": {},
     "source": [
      "The atoms in the structure can be referred by integer indices starting from zero.  A subset of atoms can be selected using integer ranges, but also with a list of integer indices or boolean flags."
     ]
    },
    {
     "cell_type": "code",
     "collapsed": false,
     "input": [
      "print(cscl[0], '\\n---')     # first atom in the structure\n",
      "print(cscl[::-1], '\\n---')  # reversed other of atoms\n",
      "print(cscl[[1,]], '\\n---')  # substructure containing only the 2nd atom\n",
      "print(cscl[cscl.x < 0.2])   # substructure of atoms with x < 0.2"
     ],
     "language": "python",
     "metadata": {},
     "outputs": [
      {
       "output_type": "stream",
       "stream": "stdout",
       "text": [
        "Cs   0.000000 0.000000 0.000000 1.0000 \n",
        "---\n",
        "lattice=Lattice(a=4.123, b=4.123, c=4.123, alpha=90, beta=90, gamma=90)\n",
        "Cl   0.500000 0.500000 0.500000 1.0000\n",
        "Cs   0.000000 0.000000 0.000000 1.0000 \n",
        "---\n",
        "lattice=Lattice(a=4.123, b=4.123, c=4.123, alpha=90, beta=90, gamma=90)\n",
        "Cl   0.500000 0.500000 0.500000 1.0000 \n",
        "---\n",
        "lattice=Lattice(a=4.123, b=4.123, c=4.123, alpha=90, beta=90, gamma=90)\n",
        "Cs   0.000000 0.000000 0.000000 1.0000\n"
       ]
      }
     ],
     "prompt_number": 2
    },
    {
     "cell_type": "markdown",
     "metadata": {},
     "source": [
      "Atom positions in the structure are defined using fractional coordinates, therefore their absolute coordinate and mutual distances respond to a change in lattice parameters."
     ]
    },
    {
     "cell_type": "code",
     "collapsed": false,
     "input": [
      "print(\"Cl Cartesian coordinates:\", cscl[1].xyz_cartn)\n",
      "print(\"Cs-Cl distance:\", cscl.distance(0, 1))\n",
      "cscl.lattice.setLatPar(a=3, b=3, c=3)\n",
      "print(\"Cl Cartesian coordinates:\", cscl[1].xyz_cartn)\n",
      "print(\"Cs-Cl distance:\", cscl.distance(0, 1))"
     ],
     "language": "python",
     "metadata": {},
     "outputs": [
      {
       "output_type": "stream",
       "stream": "stdout",
       "text": [
        "Cl Cartesian coordinates: [ 2.0615  2.0615  2.0615]\n",
        "Cs-Cl distance: 3.5706227398\n",
        "Cl Cartesian coordinates: [ 1.5  1.5  1.5]\n",
        "Cs-Cl distance: 2.59807621135\n"
       ]
      }
     ],
     "prompt_number": 3
    },
    {
     "cell_type": "markdown",
     "metadata": {},
     "source": [
      "Data attributes of the atoms can be changed either individually or using a mapped properties of the containing Structure.  Here we first set the  isotropic displacement for all atoms and then for a subset of chlorines."
     ]
    },
    {
     "cell_type": "code",
     "collapsed": false,
     "input": [
      "cscl.Uisoequiv = 0.003\n",
      "print(cscl.Uisoequiv)\n",
      "cscl[cscl.element == 'Cl'].Uisoequiv = 0.004\n",
      "print(cscl.Uisoequiv) "
     ],
     "language": "python",
     "metadata": {},
     "outputs": [
      {
       "output_type": "stream",
       "stream": "stdout",
       "text": [
        "[ 0.003  0.003]\n",
        "[ 0.003  0.004]\n"
       ]
      }
     ],
     "prompt_number": 4
    },
    {
     "cell_type": "markdown",
     "metadata": {},
     "source": [
      "The changes in equivalent isotropic displacement *Uisoequiv* are also applied to the tensor of displacement parameters *U*.  The *anisotropy* flag specifies if anisotropic displacements are allowed per each atom site."
     ]
    },
    {
     "cell_type": "code",
     "collapsed": false,
     "input": [
      "print(cscl.U, '\\n---')\n",
      "print(cscl.anisotropy)"
     ],
     "language": "python",
     "metadata": {},
     "outputs": [
      {
       "output_type": "stream",
       "stream": "stdout",
       "text": [
        "[[[ 0.003  0.     0.   ]\n",
        "  [ 0.     0.003  0.   ]\n",
        "  [ 0.     0.     0.003]]\n",
        "\n",
        " [[ 0.004  0.     0.   ]\n",
        "  [ 0.     0.004  0.   ]\n",
        "  [ 0.     0.     0.004]]] \n",
        "---\n",
        "[False False]\n"
       ]
      }
     ],
     "prompt_number": 5
    },
    {
     "cell_type": "markdown",
     "metadata": {},
     "source": [
      "Structures can be imported from a variety of formats such as XYZ, PDB or CIF.  The `Structure` class is a simple list of atoms with no awareness of asymmetric unit cell.  Therefore, when loading from a CIF file, the asymmetric unit is expanded to a full unit cell as if in a P1 symmetry."
     ]
    },
    {
     "cell_type": "code",
     "collapsed": false,
     "input": [
      "from diffpy.Structure import loadStructure\n",
      "nacl = loadStructure('nacl_cod1000041.cif')\n",
      "print(nacl)"
     ],
     "language": "python",
     "metadata": {},
     "outputs": [
      {
       "output_type": "stream",
       "stream": "stdout",
       "text": [
        "lattice=Lattice(a=5.62, b=5.62, c=5.62, alpha=90, beta=90, gamma=90)\n",
        "Na1+ 0.000000 0.000000 0.000000 1.0000\n",
        "Na1+ 0.000000 0.500000 0.500000 1.0000\n",
        "Na1+ 0.500000 0.000000 0.500000 1.0000\n",
        "Na1+ 0.500000 0.500000 0.000000 1.0000\n",
        "Cl1- 0.500000 0.500000 0.500000 1.0000\n",
        "Cl1- 0.500000 0.000000 0.000000 1.0000\n",
        "Cl1- 0.000000 0.500000 0.000000 1.0000\n",
        "Cl1- 0.000000 0.000000 0.500000 1.0000\n"
       ]
      }
     ],
     "prompt_number": 6
    },
    {
     "cell_type": "markdown",
     "metadata": {},
     "source": [
      "The `diffpy.Struxcture` package provides symmetry functions that can generate symmetry equivalent positions or symmetry constraints for the coordinates and displacement parameters."
     ]
    },
    {
     "cell_type": "code",
     "collapsed": false,
     "input": [
      "from diffpy.Structure.SpaceGroups import GetSpaceGroup\n",
      "from diffpy.Structure.SymmetryUtilities import ExpandAsymmetricUnit\n",
      "\n",
      "Fm3m = GetSpaceGroup('Fm-3m')\n",
      "eau = ExpandAsymmetricUnit(Fm3m, corepos=[[0, 0, 0],])\n",
      "eau.expandedpos"
     ],
     "language": "python",
     "metadata": {},
     "outputs": [
      {
       "metadata": {},
       "output_type": "pyout",
       "prompt_number": 7,
       "text": [
        "[[array([ 0.,  0.,  0.]),\n",
        "  array([ 0. ,  0.5,  0.5]),\n",
        "  array([ 0.5,  0. ,  0.5]),\n",
        "  array([ 0.5,  0.5,  0. ])]]"
       ]
      }
     ],
     "prompt_number": 7
    },
    {
     "cell_type": "markdown",
     "metadata": {},
     "source": [
      "The `SymmetryConstraints` class can determine symmetry constraints on positions and displacement parameters at the specified sites."
     ]
    },
    {
     "cell_type": "code",
     "collapsed": false,
     "input": [
      "from diffpy.Structure.SymmetryUtilities import SymmetryConstraints\n",
      "\n",
      "symcon = SymmetryConstraints(Fm3m, positions=nacl.xyz)\n",
      "\n",
      "print('asymmetric unit and related positions:', symcon.coremap)\n",
      "print('position parameters:', symcon.pospars)\n",
      "print('position constraints on the 1-st site:', symcon.poseqns[0])\n",
      "print('ADP parameters:', symcon.Upars)\n",
      "print('ADP constraints on the 1-st site:', symcon.Ueqns[0])"
     ],
     "language": "python",
     "metadata": {},
     "outputs": [
      {
       "output_type": "stream",
       "stream": "stdout",
       "text": [
        "asymmetric unit and related positions: {0: [0, 1, 2, 3], 4: [4, 5, 6, 7]}\n",
        "position parameters: []\n",
        "position constraints on the 1-st site: {'y': '+0', 'x': '+0', 'z': '+0'}\n",
        "ADP parameters: [('U110', 0.0), ('U114', 0.0)]\n",
        "ADP constraints on the 1-st site: {'U33': 'U110', 'U22': 'U110', 'U23': '0', 'U11': 'U110', 'U13': '0', 'U12': '0'}\n"
       ]
      }
     ],
     "prompt_number": 8
    }
   ],
   "metadata": {}
  }
 ]
}