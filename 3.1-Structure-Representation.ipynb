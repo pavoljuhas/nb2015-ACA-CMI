{
 "metadata": {
  "name": "",
  "signature": "sha256:9ee9d6f243e21f63a9899b596ee5840b293d703ec6be3073131316e26a2acc3a"
 },
 "nbformat": 3,
 "nbformat_minor": 0,
 "worksheets": [
  {
   "cells": [
    {
     "cell_type": "heading",
     "level": 1,
     "metadata": {},
     "source": [
      "Structure Representations"
     ]
    },
    {
     "cell_type": "markdown",
     "metadata": {},
     "source": [
      "The DiffPy-CMI framework provides several options for representation, manipulation and filesystem storage of structure data.  Here we demonstrate the basic operations on structure models using the `diffpy.Structure` and `pyobjcryst` packages included in DiffPy-CMI."
     ]
    },
    {
     "cell_type": "heading",
     "level": 2,
     "metadata": {},
     "source": [
      "diffpy.Structure"
     ]
    },
    {
     "cell_type": "markdown",
     "metadata": {},
     "source": [
      "In `diffpy.Structure` the atom arrangements are represented as a combination of data in the `Structure`, `Atom` and `Lattice` class.  The `Structure` class is an enhanced Python list of `Atom` objects, where each Atom stores fractional coordinates, element or ion symbol, a matrix of displacement parameters and other attributes.  The `Lattice` class defines fractional coordinates  with respect to the absolute Cartesian coordinate system and provides functions for conversion between fractional and Cartesian coordinates, for calculation of distances, angles, cell volumes or reciprocal lattice vectors."
     ]
    },
    {
     "cell_type": "code",
     "collapsed": false,
     "input": [
      "from diffpy.Structure import Structure, Atom, Lattice\n",
      "\n",
      "cs = Atom('Cs', [0, 0, 0])\n",
      "cl = Atom('Cl', [0.5, 0.5, 0.5])\n",
      "cscl = Structure(atoms=[acs, acl],\n",
      "                 lattice=Lattice(4.123, 4.123, 4.123, 90, 90, 90))\n",
      "\n",
      "print cscl"
     ],
     "language": "python",
     "metadata": {},
     "outputs": [
      {
       "output_type": "stream",
       "stream": "stdout",
       "text": [
        "lattice=Lattice(a=4.123, b=4.123, c=4.123, alpha=90, beta=90, gamma=90)\n",
        "Cs   0.000000 0.000000 0.000000 1.0000\n",
        "Cl   0.500000 0.500000 0.500000 1.0000\n"
       ]
      }
     ],
     "prompt_number": 9
    }
   ],
   "metadata": {}
  }
 ]
}