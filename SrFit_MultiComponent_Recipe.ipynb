{
 "metadata": {
  "name": "SrFit_MultiComponent_Recipe"
 }, 
 "nbformat": 2, 
 "worksheets": [
  {
   "cells": [
    {
     "cell_type": "markdown", 
     "source": [
      "This notebook will demonstrate a simple example of using a SrFit recipe to manage a two-component fit.", 
      "To start we'll generate a single data stream with some noisy linear data and add it to a Profile object. "
     ]
    }, 
    {
     "cell_type": "code", 
     "collapsed": true, 
     "input": [
      "from __future__ import print_function", 
      "import numpy as np", 
      "A = 3", 
      "B = 5", 
      "noise_level = 3.0", 
      "xobs0 = np.linspace(0,10.0,20)", 
      "yobs0 = A * xobs0 + B + noise_level * np.random.randn(xobs0.size)", 
      "dyobs0 = 0.2 * np.ones_like(xobs0)", 
      "from diffpy.srfit.fitbase import Profile", 
      "linedata = Profile()", 
      "linedata.setObservedProfile(xobs0, yobs0, dyobs0)"
     ], 
     "language": "python", 
     "outputs": [], 
     "prompt_number": 30
    }, 
    {
     "cell_type": "markdown", 
     "source": [
      "The next step is to create a fit contribution object, which will contain both the measured data and a", 
      "function calculator to simulate the data."
     ]
    }, 
    {
     "cell_type": "code", 
     "collapsed": true, 
     "input": [
      "from diffpy.srfit.fitbase import FitContribution", 
      "linefit = FitContribution('linefit')", 
      "linefit.setProfile(linedata)", 
      "linefit.setEquation(\"A * x + B\")"
     ], 
     "language": "python", 
     "outputs": [], 
     "prompt_number": 31
    }, 
    {
     "cell_type": "markdown", 
     "source": [
      "By defining the function calculator with the setEquation method, SrFit automatically recognizes A and B", 
      "as parameters that will be used to model the data. We now create a fit recipe to hold our fit contribution", 
      "and tell the recipe that A and B are the variables we want to refine."
     ]
    }, 
    {
     "cell_type": "code", 
     "collapsed": false, 
     "input": [
      "from diffpy.srfit.fitbase import FitRecipe", 
      "recipe = FitRecipe()", 
      "recipe.addContribution(linefit)", 
      "recipe.addVar(recipe.linefit.A)", 
      "recipe.addVar(recipe.linefit.B)"
     ], 
     "language": "python", 
     "outputs": [
      {
       "output_type": "pyout", 
       "prompt_number": 32, 
       "text": [
        "<diffpy.srfit.fitbase.parameter.ParameterProxy at 0x2f51d90>"
       ]
      }
     ], 
     "prompt_number": 32
    }, 
    {
     "cell_type": "markdown", 
     "source": [
      "Once defined, the fit recipe acts like a simple python function that takes the values of the variables as input ", 
      "and returns the fit residual as output. Thus, it can be plugged into a variety of available ", 
      "optimization programs. We'll use the least squares optimizer from the scipy.optimize module with some", 
      "reasonable starting values for A and B."
     ]
    }, 
    {
     "cell_type": "code", 
     "collapsed": false, 
     "input": [
      "from scipy.optimize import leastsq", 
      "recipe.A = 1.0", 
      "recipe.B = 2.0", 
      "recipe.clearFitHooks()", 
      "leastsq(recipe.residual, recipe.values)", 
      "", 
      "print(\"recipe.A = \", recipe.A.value)", 
      "print(\"recipe.B = \", recipe.B.value)"
     ], 
     "language": "python", 
     "outputs": [
      {
       "output_type": "stream", 
       "stream": "stdout", 
       "text": [
        "recipe.A =  2.48660396616", 
        "recipe.B =  7.0588247356"
       ]
      }
     ], 
     "prompt_number": 33
    }, 
    {
     "cell_type": "markdown", 
     "source": [
      "The fit converged and gave us values of A and B that are somewhat close to our original starting values. Here's", 
      "where things get interesting. Suppose we have a second data set and model that also depend on A and B. We can", 
      "add another fit contribution to the recipe and run a co-refinement. Let's now generate more data--this time", 
      "we'll use a a quadratic form and, just for fun, we'll add another parameter, C."
     ]
    }, 
    {
     "cell_type": "code", 
     "collapsed": true, 
     "input": [
      "C = 8.0", 
      "xobs1 = np.linspace(-3.0, 3.0, 20)", 
      "yobs1 = A * xobs1 ** 2 + B * xobs1 + C + noise_level * np.random.randn(xobs1.size)", 
      "dyobs1 = 0.2 * np.ones_like(xobs0)"
     ], 
     "language": "python", 
     "outputs": [], 
     "prompt_number": 34
    }, 
    {
     "cell_type": "markdown", 
     "source": [
      "As before we create a fit contribution object to hold our measured data and the corresponding model."
     ]
    }, 
    {
     "cell_type": "code", 
     "collapsed": true, 
     "input": [
      "quadfit = FitContribution('quadfit')", 
      "quaddata = Profile()", 
      "quaddata.setObservedProfile(xobs1, yobs1)", 
      "quadfit.setProfile(quaddata)", 
      "quadfit.setEquation(\"A * x**2 + B * x + C\")"
     ], 
     "language": "python", 
     "outputs": [], 
     "prompt_number": 35
    }, 
    {
     "cell_type": "markdown", 
     "source": [
      "Now, creating a co-refinement is as simple as adding this second fit contribution to our existing recipe and", 
      "constraining the parameters A and B in our new equation to the existing variables A and B in our recipe."
     ]
    }, 
    {
     "cell_type": "code", 
     "collapsed": false, 
     "input": [
      "recipe.addContribution(quadfit)", 
      "recipe.constrain(recipe.quadfit.A, recipe.A)", 
      "recipe.constrain(recipe.quadfit.B, recipe.B)", 
      "recipe.addVar(recipe.quadfit.C)"
     ], 
     "language": "python", 
     "outputs": [
      {
       "output_type": "pyout", 
       "prompt_number": 36, 
       "text": [
        "<diffpy.srfit.fitbase.parameter.ParameterProxy at 0x2f58ad0>"
       ]
      }
     ], 
     "prompt_number": 36
    }, 
    {
     "cell_type": "markdown", 
     "source": [
      "Once again we use scipy's least squares optimization engine to fit our data."
     ]
    }, 
    {
     "cell_type": "code", 
     "collapsed": false, 
     "input": [
      "recipe.C = 1.0", 
      "leastsq(recipe.residual, recipe.values)", 
      "print(\"recipe.A = \", recipe.A.value)", 
      "print(\"recipe.B = \", recipe.B.value)", 
      "print (\"recipe.C = \", recipe.C.value)"
     ], 
     "language": "python", 
     "outputs": [
      {
       "output_type": "stream", 
       "stream": "stdout", 
       "text": [
        "recipe.A =  2.59676685917", 
        "recipe.B =  6.33002931344", 
        "recipe.C =  9.02225170459"
       ]
      }
     ], 
     "prompt_number": 37
    }, 
    {
     "cell_type": "markdown", 
     "source": [
      "With the added data we achieve a better agreement between our original parameters and the fit to the model."
     ]
    }
   ]
  }
 ]
}