{
 "metadata": {
  "name": "",
  "signature": "sha256:e8acb886daba439c99665c13d696f7dd4d9f41204c4745446e7f275bd7aac1ca"
 },
 "nbformat": 3,
 "nbformat_minor": 0,
 "worksheets": [
  {
   "cells": [
    {
     "cell_type": "heading",
     "level": 1,
     "metadata": {},
     "source": [
      "Function Calculators"
     ]
    },
    {
     "cell_type": "markdown",
     "metadata": {},
     "source": [
      "The diffpy.srreal package provides functions for evaluating structure models and simulating structure-based physical quantities.  The diffpy.srreal calculators share a common algorithm for iterating over all atom pairs to model quantities based on pair interactions.  "
     ]
    },
    {
     "cell_type": "heading",
     "level": 2,
     "metadata": {},
     "source": [
      "Basic use - calculation of bond distances"
     ]
    },
    {
     "cell_type": "code",
     "collapsed": false,
     "input": [
      "from __future__ import print_function\n",
      "from diffpy.Structure import loadStructure\n",
      "from pyobjcryst.crystal import CreateCrystalFromCIF\n",
      "\n",
      "# load NaCl CIF as diffpy.Structure and pyobjcryst.Crystal object\n",
      "nacl_stru = loadStructure('nacl_cod1000041.cif')\n",
      "nacl_objc = CreateCrystalFromCIF(open('nacl_cod1000041.cif'))\n",
      "\n",
      "# create BondCalculator object\n",
      "from diffpy.srreal.bondcalculator import BondCalculator\n",
      "bc = BondCalculator(rmax=3)\n",
      "\n",
      "# evaluate both structure representations\n",
      "print(bc(nacl_stru))\n",
      "print(bc(nacl_objc))"
     ],
     "language": "python",
     "metadata": {},
     "outputs": [
      {
       "output_type": "stream",
       "stream": "stdout",
       "text": [
        "[ 2.81  2.81  2.81  2.81  2.81  2.81  2.81  2.81  2.81  2.81  2.81  2.81\n",
        "  2.81  2.81  2.81  2.81  2.81  2.81  2.81  2.81  2.81  2.81  2.81  2.81\n",
        "  2.81  2.81  2.81  2.81  2.81  2.81  2.81  2.81  2.81  2.81  2.81  2.81\n",
        "  2.81  2.81  2.81  2.81  2.81  2.81  2.81  2.81  2.81  2.81  2.81  2.81]\n",
        "[ 2.81  2.81  2.81  2.81  2.81  2.81  2.81  2.81  2.81  2.81  2.81  2.81]\n"
       ]
      }
     ],
     "prompt_number": 7
    },
    {
     "cell_type": "markdown",
     "metadata": {},
     "source": [
      "The returned distance arrays are of different lengths, because diffpy.Structure works with expanded unit cell.  The Python variable `bc` is an instance of BondCalculator object.  There may be multiple instances of BondCalculator (or any other calculator) objects, with different configurations."
     ]
    },
    {
     "cell_type": "code",
     "collapsed": false,
     "input": [
      "bcNaNa = BondCalculator(rmax=4.5)\n",
      "bcNaNa.setTypeMask('Na1+', 'Na1+', True, others=False)\n",
      "bcNaCl = BondCalculator(rmax=4.5)\n",
      "bcNaCl.setTypeMask('Na1+', 'Cl1-', True, others=False)\n",
      "\n",
      "print(\"Na-Na:\", bcNaNa(nacl_objc))\n",
      "print(\"Na-Cl:\", bcNaCl(nacl_objc))"
     ],
     "language": "python",
     "metadata": {},
     "outputs": [
      {
       "output_type": "stream",
       "stream": "stdout",
       "text": [
        "Na-Na: [ 3.97394011  3.97394011  3.97394011  3.97394011  3.97394011  3.97394011\n",
        "  3.97394011  3.97394011  3.97394011  3.97394011  3.97394011  3.97394011]\n",
        "Na-Cl: [ 2.81  2.81  2.81  2.81  2.81  2.81  2.81  2.81  2.81  2.81  2.81  2.81]\n"
       ]
      }
     ],
     "prompt_number": 8
    },
    {
     "cell_type": "markdown",
     "metadata": {},
     "source": [
      "Additional details about the calculated distances are available as an attributes of the BondCalculator object."
     ]
    },
    {
     "cell_type": "code",
     "collapsed": false,
     "input": [
      "tablerows = zip(bcNaCl.distances, bcNaCl.sites0, bcNaCl.sites1, \n",
      "                bcNaCl.types0, bcNaCl.types1, bcNaCl.directions)\n",
      "for r in tablerows:\n",
      "    print(*r)"
     ],
     "language": "python",
     "metadata": {},
     "outputs": [
      {
       "output_type": "stream",
       "stream": "stdout",
       "text": [
        "2.81 0 1 Na1+ Cl1- [-2.81  0.    0.  ]\n",
        "2.81 0 1 Na1+ Cl1- [ 0.   -2.81  0.  ]\n",
        "2.81 0 1 Na1+ Cl1- [ 0.    0.   -2.81]\n",
        "2.81 0 1 Na1+ Cl1- [ 0.    0.    2.81]\n",
        "2.81 0 1 Na1+ Cl1- [ 0.    2.81  0.  ]\n",
        "2.81 0 1 Na1+ Cl1- [ 2.81  0.    0.  ]\n",
        "2.81 1 0 Cl1- Na1+ [-2.81  0.    0.  ]\n",
        "2.81 1 0 Cl1- Na1+ [ 0.   -2.81  0.  ]\n",
        "2.81 1 0 Cl1- Na1+ [ 0.    0.   -2.81]\n",
        "2.81 1 0 Cl1- Na1+ [ 0.    0.    2.81]\n",
        "2.81 1 0 Cl1- Na1+ [ 0.    2.81  0.  ]\n",
        "2.81 1 0 Cl1- Na1+ [ 2.81  0.    0.  ]\n"
       ]
      }
     ],
     "prompt_number": 9
    },
    {
     "cell_type": "markdown",
     "metadata": {},
     "source": [
      "A brief description of these attributes and a general usage info is available as Python docstring for all classes and functions form diffpy.srreal."
     ]
    },
    {
     "cell_type": "code",
     "collapsed": false,
     "input": [
      "help(BondCalculator)"
     ],
     "language": "python",
     "metadata": {},
     "outputs": [
      {
       "output_type": "stream",
       "stream": "stdout",
       "text": [
        "Help on class BondCalculator in module diffpy.srreal.srreal_ext:\n",
        "\n",
        "class BondCalculator(BasePairQuantity)\n",
        " |  Calculator of bond distances in a specified structure.\n",
        " |  \n",
        " |  Method resolution order:\n",
        " |      BondCalculator\n",
        " |      BasePairQuantity\n",
        " |      Attributes\n",
        " |      Boost.Python.instance\n",
        " |      __builtin__.object\n",
        " |  \n",
        " |  Methods defined here:\n",
        " |  \n",
        " |  __call__ = _call_kwargs(self, structure=None, **kwargs)\n",
        " |      Return sorted bond distances in the specified structure.\n",
        " |      \n",
        " |      structure    -- structure to be evaluated, an instance of diffpy Structure\n",
        " |                      or pyobjcryst Crystal.  Reuse the last structure when None.\n",
        " |      kwargs       -- optional parameter settings for this calculator\n",
        " |      \n",
        " |      Return a sorted numpy array.\n",
        " |  \n",
        " |  __getstate__(...)\n",
        " |      __getstate__( (object)arg1) -> tuple :\n",
        " |      \n",
        " |          C++ signature :\n",
        " |              boost::python::tuple __getstate__(boost::python::api::object)\n",
        " |  \n",
        " |  __init__ = _init_kwargs(self, **kwargs)\n",
        " |      Create a new instance of BondCalculator.\n",
        " |      Keyword arguments can be used to configure\n",
        " |      calculator properties, for example:\n",
        " |      \n",
        " |      bdc = BondCalculator(rmin=1.5, rmax=2.5)\n",
        " |      \n",
        " |      Raise ValueError for invalid keyword argument.\n",
        " |  \n",
        " |  __reduce__ = <unnamed Boost.Python function>(...)\n",
        " |  \n",
        " |  __setstate__(...)\n",
        " |      __setstate__( (object)arg1, (tuple)arg2) -> None :\n",
        " |      \n",
        " |          C++ signature :\n",
        " |              void __setstate__(boost::python::api::object,boost::python::tuple)\n",
        " |  \n",
        " |  filterCone(...)\n",
        " |      filterCone( (BondCalculator)arg1, (object)cartesiandir, (float)degrees) -> None :\n",
        " |          Setup an additive bond filter in a specified direction cone.\n",
        " |          Second and further calls create more filters that permit more bonds.\n",
        " |          Use filterOff to create exclusive filter in a new direction.\n",
        " |          \n",
        " |          cartesiandir -- cone axis in Cartesian coordinates,\n",
        " |                          list, tuple or array.\n",
        " |          degrees      -- cone angle in degrees\n",
        " |          \n",
        " |          No return value.\n",
        " |          \n",
        " |      \n",
        " |          C++ signature :\n",
        " |              void filterCone(diffpy::srreal::BondCalculator {lvalue},boost::python::api::object,double)\n",
        " |  \n",
        " |  filterOff(...)\n",
        " |      filterOff( (BondCalculator)arg1) -> None :\n",
        " |          Turn off bond filtering and destroy all cone filters.\n",
        " |          Permit all bonds in further calculations.  Also used to create\n",
        " |          exclusive cone filter in a new direction.\n",
        " |          \n",
        " |      \n",
        " |          C++ signature :\n",
        " |              void filterOff(diffpy::srreal::BondCalculator {lvalue})\n",
        " |  \n",
        " |  ----------------------------------------------------------------------\n",
        " |  Data descriptors defined here:\n",
        " |  \n",
        " |  directions\n",
        " |      List of bond directions in the evaluated structure.\n",
        " |  \n",
        " |  distances\n",
        " |      Array of sorted bond distances in the evaluated structure.\n",
        " |  \n",
        " |  rmax\n",
        " |      Upper bound for the bond distances.\n",
        " |      [5 A]\n",
        " |  \n",
        " |  rmin\n",
        " |      Lower bound for the bond distances.\n",
        " |      [0 A]\n",
        " |  \n",
        " |  sites0\n",
        " |      List of zero-based indices of the first site in the pair.\n",
        " |  \n",
        " |  sites1\n",
        " |      List of zero-based indices of the second site in the pair.\n",
        " |  \n",
        " |  types0\n",
        " |      List of atom symbols for the first site in all pairs.\n",
        " |  \n",
        " |  types1\n",
        " |      List of atom symbols for the second site in all pairs.\n",
        " |  \n",
        " |  ----------------------------------------------------------------------\n",
        " |  Data and other attributes defined here:\n",
        " |  \n",
        " |  __getstate_manages_dict__ = True\n",
        " |  \n",
        " |  __instance_size__ = 464\n",
        " |  \n",
        " |  __safe_for_unpickling__ = True\n",
        " |  \n",
        " |  ----------------------------------------------------------------------\n",
        " |  Methods inherited from BasePairQuantity:\n",
        " |  \n",
        " |  copy(...)\n",
        " |      copy( (object)arg1) -> object :\n",
        " |          Return a deep copy of this PairQuantity object.\n",
        " |          \n",
        " |      \n",
        " |          C++ signature :\n",
        " |              boost::python::api::object copy(boost::python::api::object)\n",
        " |  \n",
        " |  eval(...)\n",
        " |      eval( (BasePairQuantity)arg1 [, (object)stru=None]) -> object :\n",
        " |          Calculate a pair quantity for the specified structure.\n",
        " |          \n",
        " |          stru -- structure object that can be converted to StructureAdapter.\n",
        " |                  Use the last structure when None.\n",
        " |          \n",
        " |          Return a copy of the internal total contributions.\n",
        " |          May need to be further transformed to get the desired value.\n",
        " |          \n",
        " |      \n",
        " |          C++ signature :\n",
        " |              boost::python::api::object eval(diffpy::srreal::PairQuantity {lvalue} [,boost::python::api::object {lvalue}=None])\n",
        " |  \n",
        " |  getPairMask(...)\n",
        " |      getPairMask( (BasePairQuantity)arg1, (int)i, (int)j) -> bool :\n",
        " |          Return calculation mask for a pair of atom indices.\n",
        " |          \n",
        " |          i    -- zero based index of the first site in the pair\n",
        " |          j    -- zero based index of the second site in the pair\n",
        " |          \n",
        " |          Return boolean mask.  Note the value may be incorrect, because type-based\n",
        " |          masking is applied with a delay.  The value is guaranteed correct after\n",
        " |          a call of setStructure or eval methods.\n",
        " |          \n",
        " |      \n",
        " |          C++ signature :\n",
        " |              bool getPairMask(diffpy::srreal::PairQuantity {lvalue},int,int)\n",
        " |  \n",
        " |  getStructure(...)\n",
        " |      getStructure( (BasePairQuantity)arg1) -> StructureAdapter :\n",
        " |          The StructureAdapter instance of the last evaluated structure.\n",
        " |          \n",
        " |      \n",
        " |          C++ signature :\n",
        " |              boost::shared_ptr<diffpy::srreal::StructureAdapter> {lvalue} getStructure(diffpy::srreal::PairQuantity {lvalue})\n",
        " |  \n",
        " |  getTypeMask(...)\n",
        " |      getTypeMask( (BasePairQuantity)arg1, (str)tpi, (str)tpj) -> bool :\n",
        " |          Return calculation mask for a pair of atom types.\n",
        " |          \n",
        " |          tpi  -- element symbol of the first type in the pair.\n",
        " |          tpj  -- element symbol of the second type in the pair.\n",
        " |          \n",
        " |          Return boolean mask.  The value is meaningless for index-based\n",
        " |          masking.  Use getTypeMask('', '') to get the default pair mask.\n",
        " |          \n",
        " |      \n",
        " |          C++ signature :\n",
        " |              bool getTypeMask(diffpy::srreal::PairQuantity {lvalue},std::__1::basic_string<char, std::__1::char_traits<char>, std::__1::allocator<char> >,std::__1::basic_string<char, std::__1::char_traits<char>, std::__1::allocator<char> >)\n",
        " |  \n",
        " |  invertMask(...)\n",
        " |      invertMask( (BasePairQuantity)arg1) -> None :\n",
        " |          Invert mask that controls which atom pairs should be included.\n",
        " |          \n",
        " |      \n",
        " |          C++ signature :\n",
        " |              void invertMask(diffpy::srreal::PairQuantity {lvalue})\n",
        " |  \n",
        " |  maskAllPairs(...)\n",
        " |      maskAllPairs( (BasePairQuantity)arg1, (object)mask) -> None :\n",
        " |          Set the calculation mask for all atom pairs in the structure.\n",
        " |          \n",
        " |          mask -- True if all pairs should be included, False if excluded.\n",
        " |          \n",
        " |          No return value.\n",
        " |          \n",
        " |      \n",
        " |          C++ signature :\n",
        " |              void maskAllPairs(diffpy::srreal::PairQuantity {lvalue},boost::python::api::object)\n",
        " |  \n",
        " |  setPairMask(...)\n",
        " |      setPairMask( (BasePairQuantity)arg1, (object)i, (object)j, (object)mask [, (object)others=None]) -> None :\n",
        " |          Include or exclude specified atom pairs in the calculation.\n",
        " |          The pair masking is exclusively based either on site indices\n",
        " |          or atom types.  This function applies index-based masking and\n",
        " |          cancels any type-based masks.\n",
        " |          \n",
        " |          i    -- zero based index of the first site in the pair.\n",
        " |                  Can be also an iterable of indices or a string 'all' or 'ALL',\n",
        " |                  which select all sites in the structure.\n",
        " |          j    -- index of the second site in the pair.  Can be an iterable\n",
        " |                  or string 'all', just like argument i\n",
        " |          mask -- mask of the atom pair i, j,  True if included, False if excluded.\n",
        " |          others -- optional mask applied to all other pairs.  Ignored when None.\n",
        " |          \n",
        " |          No return value.\n",
        " |          \n",
        " |      \n",
        " |          C++ signature :\n",
        " |              void setPairMask(diffpy::srreal::PairQuantity {lvalue},boost::python::api::object,boost::python::api::object,boost::python::api::object [,boost::python::api::object=None])\n",
        " |  \n",
        " |  setStructure(...)\n",
        " |      setStructure( (BasePairQuantity)arg1, (object)stru) -> None :\n",
        " |          Assign structure to be evaluated without executing the calculation.\n",
        " |          This zeros the internal values array and updates the pair mask data.\n",
        " |          \n",
        " |          stru -- structure object that can be converted to StructureAdapter.\n",
        " |          \n",
        " |          No return value.\n",
        " |          \n",
        " |      \n",
        " |          C++ signature :\n",
        " |              void setStructure(diffpy::srreal::PairQuantity {lvalue},boost::python::api::object)\n",
        " |  \n",
        " |  setTypeMask(...)\n",
        " |      setTypeMask( (BasePairQuantity)arg1, (object)tpi, (object)tpj, (object)mask [, (object)others=None]) -> None :\n",
        " |          Include or exclude specified atom-type pairs in the calculation.\n",
        " |          The pair masking is exclusively based either on site indices\n",
        " |          or atom types.  This function applies type-based masking and\n",
        " |          cancels any previous index-based masks.\n",
        " |          \n",
        " |          tpi  -- first atom type in the pair, string or an iterable of strings.\n",
        " |                  When 'all' or 'ALL', tpi refers to all sites in the structure.\n",
        " |          tpj  -- second atom type in the pair, string or an iterable of strings.\n",
        " |                  When 'all' or 'ALL', tpj refers to all sites in the structure.\n",
        " |          mask -- mask for the atom types pair.\n",
        " |                  True if included, False if excluded.\n",
        " |          others -- optional mask applied to all other pairs.  Ignored when None.\n",
        " |          \n",
        " |          No return value.\n",
        " |          \n",
        " |      \n",
        " |          C++ signature :\n",
        " |              void setTypeMask(diffpy::srreal::PairQuantity {lvalue},boost::python::api::object,boost::python::api::object,boost::python::api::object [,boost::python::api::object=None])\n",
        " |  \n",
        " |  ticker(...)\n",
        " |      ticker( (BasePairQuantity)arg1) -> EventTicker :\n",
        " |          Return EventTicker object with the last configuration change time.\n",
        " |          \n",
        " |          The ticker should be clicked on every configuration change that\n",
        " |          requires reevaluation of the PairQuantity even for an unchanged\n",
        " |          structure.\n",
        " |          \n",
        " |      \n",
        " |          C++ signature :\n",
        " |              diffpy::eventticker::EventTicker {lvalue} ticker(diffpy::srreal::PairQuantity {lvalue})\n",
        " |  \n",
        " |  ----------------------------------------------------------------------\n",
        " |  Data descriptors inherited from BasePairQuantity:\n",
        " |  \n",
        " |  evaluatortype\n",
        " |      String type of preferred evaluation procedure.\n",
        " |      \n",
        " |      Possible values are 'BASIC' and 'OPTIMIZED'.  The value is always\n",
        " |      calculated from scratch when 'BASIC'.  The 'OPTIMIZED' evaluation\n",
        " |      updates the existing results by recalculating only the contributions\n",
        " |      from changed atoms.\n",
        " |      \n",
        " |      See also evaluatortypeused.\n",
        " |  \n",
        " |  evaluatortypeused\n",
        " |      String type of evaluation procedure used in the last calculation.\n",
        " |      \n",
        " |      Possible values are 'BASIC', 'OPTIMIZED', and 'NONE' for calculator\n",
        " |      that has not been used yet.\n",
        " |  \n",
        " |  value\n",
        " |      Internal vector of total contributions as numpy array.\n",
        " |  \n",
        " |  ----------------------------------------------------------------------\n",
        " |  Methods inherited from Attributes:\n",
        " |  \n",
        " |  __getattr__(self, name)\n",
        " |      Lookup a C++ double attribute if standard Python lookup fails.\n",
        " |      \n",
        " |      Raise AttributeError if C++ double attribute does not exist.\n",
        " |  \n",
        " |  __setattr__(self, name, value)\n",
        " |      Assign to C++ double attribute if it exists.  Use standard Python\n",
        " |      attribute assignment otherwise.\n",
        " |  \n",
        " |  ----------------------------------------------------------------------\n",
        " |  Data descriptors inherited from Boost.Python.instance:\n",
        " |  \n",
        " |  __dict__\n",
        " |  \n",
        " |  __weakref__\n",
        " |  \n",
        " |  ----------------------------------------------------------------------\n",
        " |  Data and other attributes inherited from Boost.Python.instance:\n",
        " |  \n",
        " |  __new__ = <built-in method __new__ of Boost.Python.class object>\n",
        " |      T.__new__(S, ...) -> a new object with type S, a subtype of T\n",
        "\n"
       ]
      }
     ],
     "prompt_number": 10
    },
    {
     "cell_type": "heading",
     "level": 2,
     "metadata": {},
     "source": [
      "Basic and Optimized evaluation modes"
     ]
    },
    {
     "cell_type": "markdown",
     "metadata": {},
     "source": [
      "The calculators in diffpy.srreal can be used in an optimized mode, where pair contributions are evaluated only for the atoms that moved or otherwise changed since the last calculation.  A full double sum has to be still performed for the first calculation or when structure changed too much since the previous run.  The actual evaluation mode used is indicated by the `evaluatortypeused` attribute."
     ]
    },
    {
     "cell_type": "code",
     "collapsed": false,
     "input": [
      "from diffpy.srreal.pdfcalculator import PDFCalculator\n",
      "\n",
      "nacl_stru.Bisoequiv = 0.5\n",
      "pdfc = PDFCalculator(rmax=10)\n",
      "pdfc.evaluatortype = 'OPTIMIZED'\n",
      "r, g = pdfc(nacl_stru)\n",
      "print(\"first evaluation:\", pdfc.evaluatortypeused)\n",
      "r, g = pdfc(nacl_stru)\n",
      "print(\"second evaluation:\", pdfc.evaluatortypeused)"
     ],
     "language": "python",
     "metadata": {},
     "outputs": [
      {
       "output_type": "stream",
       "stream": "stdout",
       "text": [
        "first evaluation: BASIC\n",
        "second evaluation: OPTIMIZED\n"
       ]
      }
     ],
     "prompt_number": 11
    },
    {
     "cell_type": "markdown",
     "metadata": {},
     "source": [
      "Calculator objects can be run without a structure argument in which case they reevaluate the last structure.  Here we use it to benchmark the improved speed of the OPTIMIZED mode."
     ]
    },
    {
     "cell_type": "code",
     "collapsed": false,
     "input": [
      "pdfc.evaluatortype = 'BASIC'\n",
      "%timeit pdfc()\n",
      "pdfc.evaluatortype = 'OPTIMIZED'\n",
      "%timeit pdfc()"
     ],
     "language": "python",
     "metadata": {},
     "outputs": [
      {
       "output_type": "stream",
       "stream": "stdout",
       "text": [
        "100 loops, best of 3: 2.98 ms per loop\n",
        "10000 loops, best of 3: 150 \u00b5s per loop"
       ]
      },
      {
       "output_type": "stream",
       "stream": "stdout",
       "text": [
        "\n"
       ]
      }
     ],
     "prompt_number": 12
    },
    {
     "cell_type": "heading",
     "level": 2,
     "metadata": {},
     "source": [
      "Parallel evaluation"
     ]
    },
    {
     "cell_type": "markdown",
     "metadata": {},
     "source": [
      "The calculations in diffpy.srreal can be speed up by evaluating pair sum in parallel and then adding the partial results.  The parallel calculations can be set up by specifying a template calculator object and a parallel map function.\n",
      "\n",
      "In this example we use a builtin Python `map` function, which makes the calculation serial, but this can be easily replaced by a `map` function from IPython parallel cluster (if started)."
     ]
    },
    {
     "cell_type": "code",
     "collapsed": false,
     "input": [
      "from diffpy.srreal.parallel import createParallelCalculator\n",
      "from IPython.parallel import Client\n",
      "\n",
      "engineview = Client()[:]\n",
      "pdfc0 = PDFCalculator()\n",
      "pdfc2 = createParallelCalculator(PDFCalculator(), ncpu=2, pmap=map)\n",
      "## uncomment to use parallel mapping to IPython parallel cluster\n",
      "#pdfc2 = createParallelCalculator(PDFCalculator(), len(engineview), engineview.map)\n",
      "\n",
      "# calculate PDF using serial and parallel calculator\n",
      "r0, g0 = pdfc0(nacl_stru)\n",
      "r2, g2 = pdfc2(nacl_stru)\n",
      "\n",
      "# compare serial and parallel results\n",
      "%matplotlib inline\n",
      "plot(r0, g0, 'x', r2, g2, '-r', hold=False);"
     ],
     "language": "python",
     "metadata": {},
     "outputs": [
      {
       "metadata": {},
       "output_type": "display_data",
       "png": "[encoded data removed]",
       "text": [
        "<matplotlib.figure.Figure at 0x10d764410>"
       ]
      }
     ],
     "prompt_number": 27
    },
    {
     "cell_type": "heading",
     "level": 2,
     "metadata": {},
     "source": [
      "Choice of PDF simulation methods"
     ]
    },
    {
     "cell_type": "markdown",
     "metadata": {},
     "source": [
      "diffpy.srreal provides 2 methods for simulating PDFs:\n",
      "\n",
      "- `PDFCalculator` - real-space summation of peak profile, suitable for periodic structures,\n",
      "- `DebyePDFCalculator` - reciprocal-space evaluation of Debye sum with Fourier transformation to real space - preferred for finite clusters, more accurate when atoms in the structure have different *Q*-dependence of their scattering powers.\n",
      "\n",
      "Here we demonstrate both calculators on a generated chain of 10 atoms."
     ]
    },
    {
     "cell_type": "code",
     "collapsed": false,
     "input": [
      "from diffpy.Structure import Structure, Atom\n",
      "\n",
      "# generate chain of atoms\n",
      "c10 = Structure([Atom('C', (0, 0, z)) for z in range(10)])\n",
      "c10.Bisoequiv = 0.5\n",
      "\n",
      "# create PDF calculator objects per each method\n",
      "from diffpy.srreal.pdfcalculator import PDFCalculator\n",
      "from diffpy.srreal.pdfcalculator import DebyePDFCalculator\n",
      "pdfc = PDFCalculator(qmax=18, rmax=10, qmin=qmin)\n",
      "dbpdfc = DebyePDFCalculator(qmax=18, rmax=10, qmin=qmin)\n",
      "\n",
      "# Try small qmin values to simulate low-Q bound in measured PDF\n",
      "qmin = 0\n",
      "r0, g0 = pdfc(c10, qmin=qmin)\n",
      "r2, g2 = dbpdfc(c10, qmin=qmin)\n",
      "\n",
      "# compare results\n",
      "plot(r0, g0, 'x', r2, g2, '-r', hold=False);"
     ],
     "language": "python",
     "metadata": {},
     "outputs": [
      {
       "metadata": {},
       "output_type": "display_data",
       "png": "[encoded data removed]",
       "text": [
        "<matplotlib.figure.Figure at 0x10ddaff10>"
       ]
      }
     ],
     "prompt_number": 48
    },
    {
     "cell_type": "heading",
     "level": 2,
     "metadata": {},
     "source": [
      "Components in calculator objects"
     ]
    },
    {
     "cell_type": "markdown",
     "metadata": {},
     "source": [
      "Calculator classes in diffpy.srreal are composed of other objects for specialized partial tasks, such as lookup of scattering factors or calculation of profile functions.  Each of these objects can be replaced at runtime to customize the calculation.  For example, to calculate neutron instead of x-ray PDF, one needs to replace the active ScatteringFactorTable object attached to PDFCalculator."
     ]
    },
    {
     "cell_type": "code",
     "collapsed": false,
     "input": [
      "from diffpy.srreal.scatteringfactortable import SFTXray, SFTNeutron\n",
      "\n",
      "tio2 = loadStructure('tio2_rutile.cif')\n",
      "pcx = PDFCalculator()\n",
      "pcx.scatteringfactortable = SFTXray()\n",
      "pcn = PDFCalculator()\n",
      "pcn.scatteringfactortable = SFTNeutron()\n",
      "\n",
      "plot(*pcx(tio2), marker='x', label='x-ray')\n",
      "plot(*pcn(tio2), color='red', label='neutron')\n",
      "legend();"
     ],
     "language": "python",
     "metadata": {},
     "outputs": [
      {
       "metadata": {},
       "output_type": "display_data",
       "png": "[encoded data removed]",
       "text": [
        "<matplotlib.figure.Figure at 0x10e7e9050>"
       ]
      }
     ],
     "prompt_number": 52
    },
    {
     "cell_type": "markdown",
     "metadata": {},
     "source": [
      "The calculators can work seamlessly with either diffpy.Structure or pyobjcryst representations."
     ]
    },
    {
     "cell_type": "code",
     "collapsed": false,
     "input": [
      "cscl.Uisoequiv = 0.003\n",
      "print(cscl.Uisoequiv)\n",
      "cscl[cscl.element == 'Cl'].Uisoequiv = 0.004\n",
      "print(cscl.Uisoequiv) "
     ],
     "language": "python",
     "metadata": {},
     "outputs": [
      {
       "output_type": "stream",
       "stream": "stdout",
       "text": [
        "[ 0.003  0.003]\n",
        "[ 0.003  0.004]\n"
       ]
      }
     ],
     "prompt_number": 4
    },
    {
     "cell_type": "markdown",
     "metadata": {},
     "source": [
      "The changes in equivalent isotropic displacement *Uisoequiv* are also applied to the tensor of displacement parameters *U*.  The *anisotropy* flag specifies if anisotropic displacements are allowed per each atom site."
     ]
    },
    {
     "cell_type": "code",
     "collapsed": false,
     "input": [
      "print(cscl.U, '\\n---')\n",
      "print(cscl.anisotropy)"
     ],
     "language": "python",
     "metadata": {},
     "outputs": [
      {
       "output_type": "stream",
       "stream": "stdout",
       "text": [
        "[[[ 0.003  0.     0.   ]\n",
        "  [ 0.     0.003  0.   ]\n",
        "  [ 0.     0.     0.003]]\n",
        "\n",
        " [[ 0.004  0.     0.   ]\n",
        "  [ 0.     0.004  0.   ]\n",
        "  [ 0.     0.     0.004]]] \n",
        "---\n",
        "[False False]\n"
       ]
      }
     ],
     "prompt_number": 5
    },
    {
     "cell_type": "markdown",
     "metadata": {},
     "source": [
      "Structures can be imported from a variety of formats such as XYZ, PDB or CIF.  The `Structure` class is a simple list of atoms with no awareness of asymmetric unit cell.  Therefore, when loading from a CIF file, the asymmetric unit is expanded to a full unit cell as if in a P1 symmetry."
     ]
    },
    {
     "cell_type": "code",
     "collapsed": false,
     "input": [
      "from diffpy.Structure import loadStructure\n",
      "nacl = loadStructure('nacl_cod1000041.cif')\n",
      "print(nacl)"
     ],
     "language": "python",
     "metadata": {},
     "outputs": [
      {
       "output_type": "stream",
       "stream": "stdout",
       "text": [
        "lattice=Lattice(a=5.62, b=5.62, c=5.62, alpha=90, beta=90, gamma=90)\n",
        "Na1+ 0.000000 0.000000 0.000000 1.0000\n",
        "Na1+ 0.000000 0.500000 0.500000 1.0000\n",
        "Na1+ 0.500000 0.000000 0.500000 1.0000\n",
        "Na1+ 0.500000 0.500000 0.000000 1.0000\n",
        "Cl1- 0.500000 0.500000 0.500000 1.0000\n",
        "Cl1- 0.500000 0.000000 0.000000 1.0000\n",
        "Cl1- 0.000000 0.500000 0.000000 1.0000\n",
        "Cl1- 0.000000 0.000000 0.500000 1.0000\n"
       ]
      }
     ],
     "prompt_number": 6
    },
    {
     "cell_type": "markdown",
     "metadata": {},
     "source": [
      "The `diffpy.Struxcture` package provides symmetry functions that can generate symmetry equivalent positions or symmetry constraints for the coordinates and displacement parameters."
     ]
    },
    {
     "cell_type": "code",
     "collapsed": false,
     "input": [
      "from diffpy.Structure.SpaceGroups import GetSpaceGroup\n",
      "from diffpy.Structure.SymmetryUtilities import ExpandAsymmetricUnit\n",
      "\n",
      "Fm3m = GetSpaceGroup('Fm-3m')\n",
      "eau = ExpandAsymmetricUnit(Fm3m, corepos=[[0, 0, 0],])\n",
      "eau.expandedpos"
     ],
     "language": "python",
     "metadata": {},
     "outputs": [
      {
       "metadata": {},
       "output_type": "pyout",
       "prompt_number": 7,
       "text": [
        "[[array([ 0.,  0.,  0.]),\n",
        "  array([ 0. ,  0.5,  0.5]),\n",
        "  array([ 0.5,  0. ,  0.5]),\n",
        "  array([ 0.5,  0.5,  0. ])]]"
       ]
      }
     ],
     "prompt_number": 7
    },
    {
     "cell_type": "markdown",
     "metadata": {},
     "source": [
      "The `SymmetryConstraints` class can determine symmetry constraints on positions and displacement parameters at the specified sites."
     ]
    },
    {
     "cell_type": "code",
     "collapsed": false,
     "input": [
      "from diffpy.Structure.SymmetryUtilities import SymmetryConstraints\n",
      "\n",
      "symcon = SymmetryConstraints(Fm3m, positions=nacl.xyz)\n",
      "\n",
      "print('asymmetric unit and related positions:', symcon.coremap)\n",
      "print('position parameters:', symcon.pospars)\n",
      "print('position constraints on the 1-st site:', symcon.poseqns[0])\n",
      "print('ADP parameters:', symcon.Upars)\n",
      "print('ADP constraints on the 1-st site:', symcon.Ueqns[0])"
     ],
     "language": "python",
     "metadata": {},
     "outputs": [
      {
       "output_type": "stream",
       "stream": "stdout",
       "text": [
        "asymmetric unit and related positions: {0: [0, 1, 2, 3], 4: [4, 5, 6, 7]}\n",
        "position parameters: []\n",
        "position constraints on the 1-st site: {'y': '+0', 'x': '+0', 'z': '+0'}\n",
        "ADP parameters: [('U110', 0.0), ('U114', 0.0)]\n",
        "ADP constraints on the 1-st site: {'U33': 'U110', 'U22': 'U110', 'U23': '0', 'U11': 'U110', 'U13': '0', 'U12': '0'}\n"
       ]
      }
     ],
     "prompt_number": 8
    },
    {
     "cell_type": "heading",
     "level": 2,
     "metadata": {},
     "source": [
      "pyobjcryst structure representation"
     ]
    },
    {
     "cell_type": "markdown",
     "metadata": {},
     "source": [
      "pyobjcryst is a Python interface to the [ObjCryst++](https://sourceforge.net/projects/objcryst/) crystallographic library developed by Vincent Favre-Nicolin.  pyobjcryst provides advanced features for representing crystal structures including space group symmetries and chemical constraints such as rigid groups and restraints on bond lengths and bond angles.  The pyobjcryst Crystal class represent periodic structures as collection of scatterers at fractional coordinates.  Each scatterer is a single atom for common crystal structures, however it can be a collection of atom position grouped in a Molecule or described by Z-Matrix.\n",
      "\n",
      "Pyobjcryst can load or save structures in the standard CIF format or as native XML."
     ]
    },
    {
     "cell_type": "code",
     "collapsed": false,
     "input": [
      "from pyobjcryst.crystal import CreateCrystalFromCIF\n",
      "\n",
      "nacl = CreateCrystalFromCIF(open('nacl_cod1000041.cif'))\n",
      "print(nacl)"
     ],
     "language": "python",
     "metadata": {},
     "outputs": [
      {
       "output_type": "stream",
       "stream": "stdout",
       "text": [
        "UnitCell : Sodium chloride(F m -3 m)\n",
        "    Cell dimensions :  5.62000   5.62000   5.62000  90.00000  90.00000  90.00000\n",
        "List of scattering components (atoms): 2\n",
        "Na1              at :  0.0000 0.0000 0.0000, Occup=1.0000 * 0.0208, ScattPow:Na1             , Biso=    0.0000\n",
        "Cl1              at :  0.5000 0.5000 0.5000, Occup=1.0000 * 0.0208, ScattPow:Cl1             , Biso=    0.0000\n",
        "\n",
        "Occupancy = occ * dyn, where:\n",
        "        - occ is the 'real' occupancy\n",
        "        - dyn is the dynamical occupancy correction, indicating  either\n",
        "          an atom on a special position, or several identical atoms \n",
        "          overlapping (dyn=0.5 -> atom on a symetry plane / 2fold axis..\n",
        "                               -> OR 2 atoms strictly overlapping)\n",
        "\n",
        " Total number of components (atoms) in one unit cell : 8\n"
       ]
      }
     ],
     "prompt_number": 9
    },
    {
     "cell_type": "markdown",
     "metadata": {},
     "source": [
      "The `GetSpaceGroup()` function of the obtained `Crystal` object gives access to the active space group."
     ]
    },
    {
     "cell_type": "code",
     "collapsed": false,
     "input": [
      "print(nacl.GetSpaceGroup())"
     ],
     "language": "python",
     "metadata": {},
     "outputs": [
      {
       "output_type": "stream",
       "stream": "stdout",
       "text": [
        "SpaceGroup:\n",
        "  Schoenflies symbol = Oh^5\n",
        "  Hermann-Maugin symbol = F m -3 m\n",
        "  Hall symbol = -F 4 2 3\n",
        "  SgNumber = 225\n",
        "  Number of Seitz Matrix = 24\n",
        "  Number of Translation Vectors = 4\n",
        "  List of Seitz Matrices : \n",
        "    x,y,z\n",
        "    -y,x,z\n",
        "    -x,-y,z\n",
        "    y,-x,z\n",
        "    x,-y,-z\n",
        "    y,x,-z\n",
        "    -x,y,-z\n",
        "    -y,-x,-z\n",
        "    z,x,y\n",
        "    -x,z,y\n",
        "    -z,-x,y\n",
        "    x,-z,y\n",
        "    z,-x,-y\n",
        "    x,z,-y\n",
        "    -z,x,-y\n",
        "    -x,-z,-y\n",
        "    y,z,x\n",
        "    y,-z,-x\n",
        "    z,y,-x\n",
        "    -y,z,-x\n",
        "    -z,-y,-x\n",
        "    -y,-z,x\n",
        "    z,-y,x\n",
        "    -z,y,x\n",
        "  There is an inversion center at 0 0 0\n",
        "  List of Translation vectors :\n",
        "     0,0,0\n",
        "     0,0.5,0.5\n",
        "     0.5,0,0.5\n",
        "     0.5,0.5,0\n",
        "Extension (origin choice, rhomboedral/hexagonal):\u0000\n"
       ]
      }
     ],
     "prompt_number": 10
    },
    {
     "cell_type": "markdown",
     "metadata": {},
     "source": [
      "The positions of Na and Cl scatterers are specified using fractional coordinates, which remain constant when lattice parameters change.  As a result, the distances between atoms depend on the  lattice parameters."
     ]
    },
    {
     "cell_type": "code",
     "collapsed": false,
     "input": [
      "from pyobjcryst.crystal import Crystal\n",
      "\n",
      "print(\"ORIGINAL:\")\n",
      "for sc in nacl.GetScatteringComponentList():\n",
      "    print(sc)\n",
      "a2 = 7\n",
      "nacl.a, nacl.b, nacl.c = a2, a2, a2\n",
      "print(\"EXPANDED:\")\n",
      "for sc in nacl.GetScatteringComponentList():\n",
      "    print(sc)"
     ],
     "language": "python",
     "metadata": {},
     "outputs": [
      {
       "output_type": "stream",
       "stream": "stdout",
       "text": [
        "ORIGINAL:\n",
        "0 0 0 1 0.0208333 0x7fb393a2b050 Na1\n",
        "0.5 0.5 0.5 1 0.0208333 0x7fb393a0c450 Cl1\n",
        "EXPANDED:\n",
        "0 0 0 1 0.0208333 0x7fb393a2b050 Na1\n",
        "0.5 0.5 0.5 1 0.0208333 0x7fb393a0c450 Cl1\n"
       ]
      }
     ],
     "prompt_number": 11
    },
    {
     "cell_type": "markdown",
     "metadata": {},
     "source": [
      "Sometimes it is preferable to have bond distances and angles independent of lattice parameters - for example when searching for crystal packing of molecules of the known shape.  The pyobjcryst package allows this by using an entire molecule as a scattering unit."
     ]
    },
    {
     "cell_type": "code",
     "collapsed": false,
     "input": [
      "from pyobjcryst.crystal import Crystal\n",
      "from pyobjcryst.molecule import Molecule\n",
      "from pyobjcryst.scatteringpower import ScatteringPowerAtom\n",
      "\n",
      "crst = Crystal(4, 4, 4, 'P1')\n",
      "# atom scattering properties are defined by the\n",
      "# ScatteringPower object.  The same ScatteringPower may\n",
      "# be shared among several atom sites.\n",
      "spC = ScatteringPowerAtom('Carbon', 'C')\n",
      "crst.AddScatteringPower(spC)\n",
      "# molecules in ObjCryst++ are components of a Crystal,\n",
      "# therefore they are created with a reference to their owner.\n",
      "mol = Molecule(crst, \"mol\")\n",
      "# atom positions are specified in Cartesian coordinates\n",
      "# with the origin at a center of mass of the Molecule.\n",
      "mol.AddAtom(-1, 0, 0, spC, 'C1')\n",
      "mol.AddAtom(+1, 0, 0, spC, 'C2')\n",
      "# activate the Molecule as a scattering entity with the Crystal.\n",
      "crst.AddScatterer(mol)\n",
      "\n",
      "print(\"ORIGINAL:\")\n",
      "for sc in crst.GetScatteringComponentList():\n",
      "    print(sc)\n",
      "    \n",
      "crst.a, crst.b, crst.c = 8, 8, 8\n",
      "print(\"EXPANDED:\")\n",
      "for sc in crst.GetScatteringComponentList():\n",
      "    print(sc)"
     ],
     "language": "python",
     "metadata": {},
     "outputs": [
      {
       "output_type": "stream",
       "stream": "stdout",
       "text": [
        "ORIGINAL:\n",
        "-0.25 0 0 1 1 0x7fb3941ca860 Carbon\n",
        "0.25 0 0 1 1 0x7fb3941ca860 Carbon\n",
        "EXPANDED:\n",
        "-0.125 0 0 1 1 0x7fb3941ca860 Carbon\n",
        "0.125 0 0 1 1 0x7fb3941ca860 Carbon\n"
       ]
      }
     ],
     "prompt_number": 12
    },
    {
     "cell_type": "markdown",
     "metadata": {},
     "source": [
      "The fractional coordinates of the carbon atoms were adjusted to preserve the same interatomic distances within the Molecule.  Each Molecule can be shifted together with all of its atoms or rotated by changing its orientation Quaternion."
     ]
    },
    {
     "cell_type": "markdown",
     "metadata": {},
     "source": [
      "The returned distance arrays are of different lengths, because diffpy.Structure works with expanded unit cell.  The Python variable `bc` is an instance of BondCalculator object.  There may be multiple instances of BondCalculator (or any other calculator) objects, with different configurations."
     ]
    }
   ],
   "metadata": {}
  }
 ]
}