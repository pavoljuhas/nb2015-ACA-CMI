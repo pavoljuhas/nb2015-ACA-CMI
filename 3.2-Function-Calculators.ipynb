{
 "metadata": {
  "name": "",
  "signature": "sha256:f9250e70ff06b796869dd970c7f396d94946469dc7fc25c32b49befbadce78e1"
 },
 "nbformat": 3,
 "nbformat_minor": 0,
 "worksheets": [
  {
   "cells": [
    {
     "cell_type": "heading",
     "level": 1,
     "metadata": {},
     "source": [
      "Function Calculators"
     ]
    },
    {
     "cell_type": "markdown",
     "metadata": {},
     "source": [
      "In the [DiffPy-CMI](http://www.diffpy.org/products/diffpycmi/) framework the [diffpy.srreal](https://github.com/diffpy/diffpy.srreal) package provides majority of features for evaluation of structure models and for simulation of structure-based physical quantities.  The diffpy.srreal calculators address physical quantities deriving from atom-pair interactions.  The calculators use the same procedure for iteration over atom pairs and a uniform interface to structure data.  As a result, the package can be easily extended with user-defined calculators or with support for additional structure representations.\n",
      "\n",
      "The calculators available in diffpy.srreal include:\n",
      "\n",
      "- BondCalculator - evaluation of bond distances\n",
      "- BVSCalculator - evaluation of bond valence sums\n",
      "- OverlapCalculator - calculation of atom overlaps asumming hard-sphere model\n",
      "- PDFCalculator - calculation of PDF (atomic pair distribution function) using real-space summation\n",
      "- DebyePDFCalculator - simulation of PDF from Debye scattering equation\n",
      "\n",
      "This notebook gives an overview of the use and extensibility of the calculators in diffpy.srreal."
     ]
    },
    {
     "cell_type": "heading",
     "level": 2,
     "metadata": {},
     "source": [
      "Calculation of bond distances"
     ]
    },
    {
     "cell_type": "code",
     "collapsed": false,
     "input": [
      "# notebook setup\n",
      "from __future__ import print_function\n",
      "\n",
      "# try out structure representations in DiffPy-CMI\n",
      "from diffpy.Structure import loadStructure\n",
      "from pyobjcryst.crystal import CreateCrystalFromCIF\n",
      "\n",
      "# load NaCl CIF as diffpy.Structure and pyobjcryst.Crystal object\n",
      "nacl_stru = loadStructure('nacl_cod1000041.cif')\n",
      "nacl_objc = CreateCrystalFromCIF(open('nacl_cod1000041.cif'))\n",
      "\n",
      "# create BondCalculator object\n",
      "from diffpy.srreal.bondcalculator import BondCalculator\n",
      "bc = BondCalculator(rmax=3)\n",
      "\n",
      "# The bc calculator works with both structure representations\n",
      "print(bc(nacl_stru))\n",
      "print(bc(nacl_objc))"
     ],
     "language": "python",
     "metadata": {},
     "outputs": []
    },
    {
     "cell_type": "markdown",
     "metadata": {},
     "source": [
      "The returned distance arrays are of different lengths, because *diffpy.Structure* works with expanded unit cell.  The Python variable `bc` is an instance of the *BondCalculator* class.  There may be multiple instances of *BondCalculator* or any other calculator objects, each with different configuration referring to different structure models."
     ]
    },
    {
     "cell_type": "code",
     "collapsed": false,
     "input": [
      "# setup 2 bond calculators for Na-Na and Na-Cl pairs only\n",
      "bcNaNa = BondCalculator(rmax=4.5)\n",
      "bcNaNa.setTypeMask('Na1+', 'Na1+', True, others=False)\n",
      "bcNaCl = BondCalculator(rmax=4.5)\n",
      "bcNaCl.setTypeMask('Na1+', 'Cl1-', True, others=False)\n",
      "\n",
      "print(\"Na-Na:\", bcNaNa(nacl_objc))\n",
      "print(\"Na-Cl:\", bcNaCl(nacl_objc))"
     ],
     "language": "python",
     "metadata": {},
     "outputs": []
    },
    {
     "cell_type": "markdown",
     "metadata": {},
     "source": [
      "When executed with a structure model the *BondCalculator* instance returns a sorted array of atom distances.  Additional information about the evaluated distances are available object attributes."
     ]
    },
    {
     "cell_type": "code",
     "collapsed": false,
     "input": [
      "tablerows = zip(bcNaCl.distances, bcNaCl.sites0, bcNaCl.sites1, \n",
      "                bcNaCl.types0, bcNaCl.types1, bcNaCl.directions)\n",
      "for r in tablerows:\n",
      "    print(*r)"
     ],
     "language": "python",
     "metadata": {},
     "outputs": []
    },
    {
     "cell_type": "markdown",
     "metadata": {},
     "source": [
      "A brief description of the *BondCalculator* class and its functions and attributes is available from its Python docstring or at the package documentation at http://diffpy.github.io/diffpy.srreal."
     ]
    },
    {
     "cell_type": "code",
     "collapsed": false,
     "input": [
      "help(BondCalculator)"
     ],
     "language": "python",
     "metadata": {},
     "outputs": []
    },
    {
     "cell_type": "heading",
     "level": 2,
     "metadata": {},
     "source": [
      "Basic and Optimized evaluation modes"
     ]
    },
    {
     "cell_type": "markdown",
     "metadata": {},
     "source": [
      "The calculators in diffpy.srreal can be used in an optimized mode, where pair contributions are evaluated only for the atoms that moved or otherwise changed since the last calculation.  A full  sum over all pairs then needs to be carried only for the first evaluation or when structure changes too much since the previous run.  The actual evaluation mode that was used is indicated by the *evaluatortypeused* attribute."
     ]
    },
    {
     "cell_type": "code",
     "collapsed": false,
     "input": [
      "from diffpy.srreal.pdfcalculator import PDFCalculator\n",
      "\n",
      "nacl_stru.Bisoequiv = 0.5\n",
      "pdfc = PDFCalculator(rmax=10)\n",
      "pdfc.evaluatortype = 'OPTIMIZED'\n",
      "r, g = pdfc(nacl_stru)\n",
      "print(\"first evaluation:\", pdfc.evaluatortypeused)\n",
      "r, g = pdfc(nacl_stru)\n",
      "print(\"second evaluation:\", pdfc.evaluatortypeused)"
     ],
     "language": "python",
     "metadata": {},
     "outputs": []
    },
    {
     "cell_type": "markdown",
     "metadata": {},
     "source": [
      "Calculator objects can be run without a structure argument in which case they reevaluate the last structure.  Here we use it to benchmark the improved speed of the OPTIMIZED mode."
     ]
    },
    {
     "cell_type": "code",
     "collapsed": false,
     "input": [
      "pdfc.evaluatortype = 'BASIC'\n",
      "%timeit pdfc()\n",
      "pdfc.evaluatortype = 'OPTIMIZED'\n",
      "%timeit pdfc()"
     ],
     "language": "python",
     "metadata": {},
     "outputs": []
    },
    {
     "cell_type": "heading",
     "level": 2,
     "metadata": {},
     "source": [
      "Parallel evaluation"
     ]
    },
    {
     "cell_type": "markdown",
     "metadata": {},
     "source": [
      "The calculations in diffpy.srreal can be speed up by evaluating pair sum in parallel and then adding the partial results.  The parallel calculations can be set up by specifying a template calculator object and a parallel map function.\n",
      "\n",
      "In this example we use a builtin Python `map` function, which makes the calculation serial, but this can be easily replaced by a `map` function from IPython parallel cluster (if started)."
     ]
    },
    {
     "cell_type": "code",
     "collapsed": false,
     "input": [
      "from diffpy.srreal.parallel import createParallelCalculator\n",
      "from IPython.parallel import Client\n",
      "\n",
      "pdfc0 = PDFCalculator()\n",
      "pdfc2 = createParallelCalculator(PDFCalculator(), ncpu=2, pmap=map)\n",
      "## uncomment to use parallel mapping to IPython parallel cluster\n",
      "#engineview = Client()[:]\n",
      "#pdfc2 = createParallelCalculator(PDFCalculator(), len(engineview), engineview.map)\n",
      "\n",
      "# calculate PDF using serial and parallel calculator\n",
      "r0, g0 = pdfc0(nacl_stru)\n",
      "r2, g2 = pdfc2(nacl_stru)\n",
      "\n",
      "# compare serial and parallel results\n",
      "%matplotlib inline\n",
      "plot(r0, g0, 'x', r2, g2, '-r', hold=False);"
     ],
     "language": "python",
     "metadata": {},
     "outputs": []
    },
    {
     "cell_type": "heading",
     "level": 2,
     "metadata": {},
     "source": [
      "Choice of PDF simulation methods"
     ]
    },
    {
     "cell_type": "markdown",
     "metadata": {},
     "source": [
      "diffpy.srreal provides 2 methods for simulating PDFs:\n",
      "\n",
      "- `PDFCalculator` - real-space summation of peak profile, suitable for periodic structures,\n",
      "- `DebyePDFCalculator` - reciprocal-space evaluation of Debye sum with Fourier transformation to real space - preferred for finite clusters, more accurate when atoms in the structure have different *Q*-dependence of their scattering powers.\n",
      "\n",
      "Here we demonstrate both calculators on a generated chain of 10 atoms."
     ]
    },
    {
     "cell_type": "code",
     "collapsed": false,
     "input": [
      "from diffpy.Structure import Structure, Atom\n",
      "\n",
      "# generate chain of atoms\n",
      "c10 = Structure([Atom('C', (0, 0, z)) for z in range(10)])\n",
      "c10.Bisoequiv = 0.5\n",
      "\n",
      "# create PDF calculator objects per each method\n",
      "from diffpy.srreal.pdfcalculator import PDFCalculator\n",
      "from diffpy.srreal.pdfcalculator import DebyePDFCalculator\n",
      "\n",
      "pdfc = PDFCalculator(qmax=18, rmax=10)\n",
      "dbpdfc = DebyePDFCalculator(qmax=18, rmax=10)\n",
      "\n",
      "# Try small qmin values to simulate low-Q bound in measured PDF\n",
      "qmin = 0\n",
      "r0, g0 = pdfc(c10, qmin=qmin)\n",
      "r2, g2 = dbpdfc(c10, qmin=qmin)\n",
      "\n",
      "# compare results\n",
      "plot(r0, g0, 'x', r2, g2, '-r', hold=False);"
     ],
     "language": "python",
     "metadata": {},
     "outputs": []
    },
    {
     "cell_type": "heading",
     "level": 2,
     "metadata": {},
     "source": [
      "Customization of calculator objects"
     ]
    },
    {
     "cell_type": "markdown",
     "metadata": {},
     "source": [
      "Calculator classes in diffpy.srreal are composed of other objects for specialized partial tasks, such as lookup of scattering factors or calculation of profile functions.  Each of these objects can be replaced at runtime to customize the calculation.  For example, the calculation of neutron PDF can be configured by replacing the ScatteringFactorTable object attached to PDFCalculator."
     ]
    },
    {
     "cell_type": "code",
     "collapsed": false,
     "input": [
      "from diffpy.srreal.scatteringfactortable import SFTXray, SFTNeutron\n",
      "\n",
      "tio2 = loadStructure('tio2_rutile.cif')\n",
      "pcx = PDFCalculator()\n",
      "pcx.scatteringfactortable = SFTXray()\n",
      "pcn = PDFCalculator()\n",
      "pcn.scatteringfactortable = SFTNeutron()\n",
      "\n",
      "plot(*pcx(tio2), marker='x', label='x-ray')\n",
      "plot(*pcn(tio2), color='red', label='neutron')\n",
      "legend();"
     ],
     "language": "python",
     "metadata": {},
     "outputs": []
    },
    {
     "cell_type": "markdown",
     "metadata": {},
     "source": [
      "Users can define their own component objects to further adjust the calculation procedure.  diffpy.srreal is a Python interface to the C++ library libdiffpy.  New objects can be defined either in C++ or in Python.  We demo this feature by creating a custom peak profile for PDF calculation."
     ]
    },
    {
     "cell_type": "code",
     "collapsed": false,
     "input": [
      "# New profile class is derived from a generic PeakProfile base class.\n",
      "from diffpy.srreal.peakprofile import PeakProfile\n",
      "\n",
      "class RectangularProfile(PeakProfile):\n",
      "    \"Rectangular profile with a unit area.\"\n",
      "    \n",
      "    # override functions from the base class\n",
      "    \n",
      "    def __call__(self, x, fwhm):\n",
      "        \"Evaluate zero-centered profile of the specified width.\"\n",
      "        inside = (-fwhm/2.0 < x < +fwhm/2.0)\n",
      "        y = (1.0 / fwhm) if inside else 0.0\n",
      "        return y\n",
      "\n",
      "    def clone(self):\n",
      "        \"Return a copy of this profile object.\"\n",
      "        import copy\n",
      "        return copy.copy(self)\n",
      "\n",
      "    def create(self):\n",
      "        \"Return new instance of this profile type.\"\n",
      "        return RectangularProfile()\n",
      "\n",
      "    def type(self):\n",
      "        \"Return unique string identifier for this profile type.\"\n",
      "        return \"rectangularprofile\"\n",
      "\n",
      "    def xboundhi(self, fwhm):\n",
      "        \"Upper bound where profile becomes negligibly small.\"\n",
      "        return +0.5 * fwhm\n",
      "\n",
      "    def xboundlo(self, fwhm):\n",
      "        \"Lower bound where profile becomes negligibly small.\"\n",
      "        return -0.5 * fwhm"
     ],
     "language": "python",
     "metadata": {},
     "outputs": []
    },
    {
     "cell_type": "markdown",
     "metadata": {},
     "source": [
      "The new `RectangularProfile` class can be added to a global registry of available profiles, so it can be specified by its string name."
     ]
    },
    {
     "cell_type": "code",
     "collapsed": false,
     "input": [
      "RectangularProfile()._registerThisType()\n",
      "print(PeakProfile.getRegisteredTypes())"
     ],
     "language": "python",
     "metadata": {},
     "outputs": []
    },
    {
     "cell_type": "markdown",
     "metadata": {},
     "source": [
      "The new profile function can be now by assigned either as an instance or using its registered name."
     ]
    },
    {
     "cell_type": "code",
     "collapsed": false,
     "input": [
      "pdfc = PDFCalculator()\n",
      "\n",
      "pdfc.peakprofile = RectangularProfile()\n",
      "print(\"Profile assigned by instance:\", pdfc.peakprofile)\n",
      "\n",
      "pdfc.peakprofile = 'rectangularprofile'\n",
      "print(\"Profile assigned by name:\", pdfc.peakprofile)"
     ],
     "language": "python",
     "metadata": {},
     "outputs": []
    },
    {
     "cell_type": "markdown",
     "metadata": {},
     "source": [
      "Here is a plot of PDF calculated with a custom profile."
     ]
    },
    {
     "cell_type": "code",
     "collapsed": false,
     "input": [
      "r, g = pdfc(tio2)\n",
      "plot(r, g);"
     ],
     "language": "python",
     "metadata": {},
     "outputs": []
    },
    {
     "cell_type": "heading",
     "level": 2,
     "metadata": {},
     "source": [
      "Adding adapters for other structure representations."
     ]
    },
    {
     "cell_type": "markdown",
     "metadata": {},
     "source": [
      "The calculators in diffpy.srreal work seamlessly with either diffpy.Structure or pyobjcryst structure representations.  Internally these types are converted to a native StructureAdapter class, which exposes a compatible interface to the calculators.  Structure representations from other crystallographic packages can be supported by providing specialized conversion function.\n",
      "\n",
      "In this example we define a trivial structure type which allows only carbon atoms and stores only their Cartesian coordinate *z* and a common isotropic displacement parameter Uiso."
     ]
    },
    {
     "cell_type": "code",
     "collapsed": false,
     "input": [
      "class CarbonChain(object):\n",
      "    def __init__(self):\n",
      "        self.Uiso = 0.004\n",
      "        self.z = []"
     ],
     "language": "python",
     "metadata": {},
     "outputs": []
    },
    {
     "cell_type": "markdown",
     "metadata": {},
     "source": [
      "The second step is to declare a convertor function, which builds a compatible adapter for a specified CarbonChain instance.  The convertor function is declared using the `RegisterStructureAdapter` decorator and a dotted Python name of the converted class."
     ]
    },
    {
     "cell_type": "code",
     "collapsed": false,
     "input": [
      "from diffpy.srreal.structureconverters import RegisterStructureAdapter\n",
      "\n",
      "@RegisterStructureAdapter('__main__.CarbonChain')\n",
      "def convertCarbonChain(thechain):\n",
      "    # AtomicStructureAdapter is a simple collection of atom positions\n",
      "    from diffpy.srreal.structureadapter import AtomicStructureAdapter\n",
      "    from diffpy.srreal.structureadapter import Atom as AdptAtom\n",
      "    adpt = AtomicStructureAdapter()\n",
      "    a = AdptAtom()\n",
      "    a.atomtype = 'C'\n",
      "    a.uc11 = a.uc22 = a.uc33 = thechain.Uiso\n",
      "    for z in thechain.z:\n",
      "        a.zc = z\n",
      "        adpt.append(a)\n",
      "    return adpt"
     ],
     "language": "python",
     "metadata": {},
     "outputs": []
    },
    {
     "cell_type": "markdown",
     "metadata": {},
     "source": [
      "For known structure types the `createStructureAdapter` function can be used to produce the corresponding adapter object."
     ]
    },
    {
     "cell_type": "code",
     "collapsed": false,
     "input": [
      "from diffpy.srreal.structureadapter import createStructureAdapter\n",
      "\n",
      "c5 = CarbonChain()\n",
      "c5.z = range(5)\n",
      "createStructureAdapter(c5)"
     ],
     "language": "python",
     "metadata": {},
     "outputs": []
    },
    {
     "cell_type": "markdown",
     "metadata": {},
     "source": [
      "The CarbonChain class is convertible to an adapter and can be thus directly used with the SrReal calculators."
     ]
    },
    {
     "cell_type": "code",
     "collapsed": false,
     "input": [
      "# calculate bond distances in the c5 CarbonChain\n",
      "bc = BondCalculator()\n",
      "bc(c5)"
     ],
     "language": "python",
     "metadata": {},
     "outputs": []
    },
    {
     "cell_type": "code",
     "collapsed": false,
     "input": [
      "# calculate PDF for the c5 chain\n",
      "pdfc = PDFCalculator(rmax=5)\n",
      "c5.Uiso = 0.006\n",
      "plot(*pdfc(c5), hold=False)\n",
      "c5.Uiso = 0.003\n",
      "plot(*pdfc(c5));"
     ],
     "language": "python",
     "metadata": {},
     "outputs": []
    },
    {
     "cell_type": "heading",
     "level": 2,
     "metadata": {},
     "source": [
      "Adding new calculator class"
     ]
    },
    {
     "cell_type": "markdown",
     "metadata": {},
     "source": [
      "All calculator objects in diffpy.srreal are derived from a base `PairQuantity` class and use the same procedures for iteration over atom pairs.  Users can define their own calculators for pair-interaction related quantities, by deriving from the `PairQuantity` class and modifying the function which processes pair contributions.  \n",
      "\n",
      "As an example we define calculator of the Lennard-Jones potential, where energy contribution from an atom pair is\n",
      "$$\n",
      "V_{\\mathit{LJ}} = 4\\epsilon \\left[ \\left(\\frac{\\sigma}{r}\\right)^{12} -\n",
      "\\left(\\frac{\\sigma}{r}\\right)^{6} \\right]\n",
      "$$"
     ]
    },
    {
     "cell_type": "code",
     "collapsed": false,
     "input": [
      "from diffpy.srreal.pairquantity import PairQuantity\n",
      "\n",
      "class LennardJonesCalculator(PairQuantity):\n",
      "\n",
      "    # parameters of the LJ potential\n",
      "    epsilon = 1.0\n",
      "    sigma = 1.0\n",
      "\n",
      "    # override functions from the PairQuantity class\n",
      "    \n",
      "    def __init__(self):\n",
      "        PairQuantity.__init__(self)\n",
      "        self.rmax = 10\n",
      "        return\n",
      "    \n",
      "    def _resetValue(self):\n",
      "        'Clear partial results at the beginning of calculation.'\n",
      "        self._vljtotal = 0.0\n",
      "        return\n",
      "\n",
      "    def _addPairContribution(self, bond, sumscale):\n",
      "        '''Process contribution from one atom pair.\n",
      "\n",
      "        bond     -- BaseBondGenerator object that describes the\n",
      "                    current pair of atom sites.\n",
      "        sumscale -- multiplicity of the current atom pair.\n",
      "        '''\n",
      "        nmrij = bond.distance() / self.sigma\n",
      "        vij = 4 * self.epsilon * (nmrij ** -12  -  nmrij ** -6)\n",
      "        self._vljtotal += 0.5 * vij * sumscale\n",
      "        return\n",
      "\n",
      "    def __call__(self, structure=None, epsilon=None, sigma=None):\n",
      "        'Return LJ potential for the specified or last structure.'\n",
      "        self.eval(structure)\n",
      "        return self._vljtotal"
     ],
     "language": "python",
     "metadata": {},
     "outputs": []
    },
    {
     "cell_type": "markdown",
     "metadata": {},
     "source": [
      "The new LennardJonesCalculator is aware of all structure types as the other calculator classes, therefore we can test it out on the above defined CarbonChain of 5 atoms."
     ]
    },
    {
     "cell_type": "code",
     "collapsed": false,
     "input": [
      "ljcalc = LennardJonesCalculator()\n",
      "print(\"ljcalc(c5) =\", ljcalc(c5))\n",
      "ljcalc.epsilon = 2\n",
      "print(\"Reevaluate for LJ epsilon = 2\", ljcalc.epsilon)\n",
      "print(\"ljcalc() =\", ljcalc())"
     ],
     "language": "python",
     "metadata": {},
     "outputs": []
    }
   ],
   "metadata": {}
  }
 ]
}